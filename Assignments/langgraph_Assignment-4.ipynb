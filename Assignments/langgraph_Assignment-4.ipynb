{
 "cells": [
  {
   "cell_type": "code",
   "execution_count": 58,
   "id": "5e0ae7c0",
   "metadata": {},
   "outputs": [],
   "source": [
    "import os\n",
    "import requests\n",
    "from dotenv import load_dotenv\n",
    "\n",
    "# Load environment variables from a .env file \n",
    "load_dotenv()\n",
    "\n",
    "# Retrieve the API key from environment variable\n",
    "geocode_api_key = os.getenv(\"GEOCODE_API_KEY\")\n",
    "amadeus_client_id = os.getenv(\"AMADEUS_CLIENT_ID\")\n",
    "amadeus_client_secret = os.getenv(\"AMADEUS_CLIENT_SECRET\")\n",
    "\n",
    "# Check if API key is present\n",
    "if not geocode_api_key:\n",
    "    raise ValueError(\"GEOCODE_API_KEY not found in environment variables.\")"
   ]
  },
  {
   "cell_type": "code",
   "execution_count": 117,
   "id": "92f32c9c",
   "metadata": {},
   "outputs": [],
   "source": [
    "# let us use Pydantic to get a structured response for use in our application\n",
    "from pydantic import BaseModel, Field\n",
    "from typing import List, Optional\n",
    "\n",
    "# Define the response model to get lat and long as float\n",
    "class GeoResult(BaseModel):\n",
    "    lat: float\n",
    "    lon: float\n",
    "\n",
    "# Define the structured input needed to get list of attractions from Amadeus API\n",
    "class AttractionInput(BaseModel):\n",
    "    latitude: float = Field(..., description=\"Latitude of the location\")\n",
    "    longitude: float = Field(..., description=\"Longitude of the location\")\n",
    "    radius: Optional[int] = Field(default=20, description=\"Radius in kilometers for the search area\")\n",
    "\n",
    "# Define the structured input needed to get list of hotels from Amadeus API\n",
    "class HotelInput(BaseModel):\n",
    "    city_code: str = Field(..., description=\"IATA city code (e.g. PAR for Paris)\")\n",
    "    radius: Optional[int] = Field(default=20, description=\"Radius in kilometers for the search area\")\n",
    "\n",
    "# Define the structured input to get city code needed to get hotel list\n",
    "class CitySearchInput(BaseModel):\n",
    "    keyword: str = Field(..., description=\"City name or partial keyword to search for\")\n",
    "    country_code: Optional[str] = Field(None, description=\"Optional ISO2 country code to filter results\")\n",
    "\n",
    "# Get lat and long for an address from GeoCode API\n",
    "def get_lat_long(address: str) -> GeoResult:\n",
    "    \"\"\"\n",
    "    Get latitude and longitude for a given address using the GeoCode API.\n",
    "    \n",
    "    :param address: The address to geocode.\n",
    "    :return: A GeoResult object with lat and lon.\n",
    "    \"\"\"\n",
    "\n",
    "    url = \"https://geocode.maps.co/search\"\n",
    "    params = {\n",
    "        \"q\": address,\n",
    "        \"api_key\": geocode_api_key\n",
    "    }\n",
    "    \n",
    "    response = requests.get(url, params=params)\n",
    "\n",
    "    if response.status_code != 200:\n",
    "        raise Exception(f\"GeoCode API Error: {response.status_code} for address {address}\")\n",
    "\n",
    "    data = response.json()\n",
    "    if not data:\n",
    "        raise ValueError(\"No geocode results found for the given address.\")\n",
    "\n",
    "    return GeoResult.model_validate(data[0])\n",
    "\n",
    "# Define function to get weather from the lat and lon we get from get_lat_long function\n",
    "def get_weather(lat: float, lon: float) -> str:\n",
    "    \"\"\"\n",
    "    Fetches the current weather information for a given geographic coordinate.\n",
    "\n",
    "    This function calls the Open-Meteo API using the provided latitude and longitude\n",
    "    to retrieve current weather conditions such as temperature and wind speed.\n",
    "\n",
    "    Parameters:\n",
    "        lat (float): The latitude of the location.\n",
    "        lon (float): The longitude of the location.\n",
    "\n",
    "    Returns:\n",
    "        str: A human-readable summary of the current weather, including temperature and wind speed.\n",
    "\n",
    "    Raises:\n",
    "        Exception: If the weather API call fails or returns a non-200 HTTP status code.\n",
    "    \"\"\"\n",
    "\n",
    "    url = \"https://api.open-meteo.com/v1/forecast\"\n",
    "    params = {\n",
    "        \"latitude\": lat,\n",
    "        \"longitude\": lon,\n",
    "        \"current_weather\": True\n",
    "    }\n",
    "    \n",
    "    response = requests.get(url, params=params)\n",
    "\n",
    "    if response.status_code == 200:\n",
    "        data = response.json()\n",
    "        weather = data.get(\"current_weather\", {})\n",
    "        return f\"The current temperature is {weather.get('temperature')}°C with wind speed {weather.get('windspeed')} km/h.\"\n",
    "    else:\n",
    "        raise Exception(f'Open Meteo Weather API call failed with status code {response.status_code} for lat {lat} & lon {lon}.')\n",
    "    \n",
    "\n",
    "def get_amadeus_access_token() -> str:\n",
    "    \"\"\"Fetch OAuth token from Amadeus API\"\"\"\n",
    "    url = \"https://test.api.amadeus.com/v1/security/oauth2/token\"\n",
    "    headers = {\"Content-Type\": \"application/x-www-form-urlencoded\"}\n",
    "    data = {\n",
    "        \"grant_type\": \"client_credentials\",\n",
    "        \"client_id\": amadeus_client_id,\n",
    "        \"client_secret\": amadeus_client_secret,\n",
    "    }\n",
    "\n",
    "    response = requests.post(url, headers=headers, data=data)\n",
    "    response.raise_for_status()\n",
    "    return response.json()[\"access_token\"]"
   ]
  },
  {
   "cell_type": "code",
   "execution_count": 64,
   "id": "3b1ff2cf",
   "metadata": {},
   "outputs": [],
   "source": [
    "# Make the tool to get weather data\n",
    "from langchain.tools import tool\n",
    "\n",
    "@tool\n",
    "def get_weather_for_address(address: str) -> str:\n",
    "    \"\"\"\n",
    "    Tool: Get current weather for a given address.\n",
    "\n",
    "    This tool geocodes the input address to obtain latitude and longitude,\n",
    "    then queries the weather API to return current temperature and wind speed\n",
    "    at that location.\n",
    "\n",
    "    Parameters:\n",
    "        address (str): The address to get weather for.\n",
    "\n",
    "    Returns:\n",
    "        str: A summary of the current weather for the provided location.\n",
    "    \"\"\"\n",
    "    # Get lat lon into the Pydantic object with lat and lon\n",
    "    georesult = get_lat_long(address)\n",
    "    # Send lat lon from Pydantic object to get weather\n",
    "    return get_weather(georesult.lat, georesult.lon)\n"
   ]
  },
  {
   "cell_type": "code",
   "execution_count": 57,
   "id": "0cd03ee7",
   "metadata": {},
   "outputs": [
    {
     "data": {
      "text/plain": [
       "'The current temperature is 42.4°C with wind speed 9.7 km/h.'"
      ]
     },
     "execution_count": 57,
     "metadata": {},
     "output_type": "execute_result"
    }
   ],
   "source": [
    "address = \"1525 E Tonto Dr, Gilbert, AZ 85298\"\n",
    "result = get_weather_for_address.invoke(address)\n",
    "result"
   ]
  },
  {
   "cell_type": "code",
   "execution_count": 52,
   "id": "58ffbe56",
   "metadata": {},
   "outputs": [
    {
     "data": {
      "text/plain": [
       "'The current temperature is 42.4°C with wind speed 9.7 km/h.'"
      ]
     },
     "execution_count": 52,
     "metadata": {},
     "output_type": "execute_result"
    }
   ],
   "source": [
    "result"
   ]
  },
  {
   "cell_type": "code",
   "execution_count": null,
   "id": "d86c7fa4",
   "metadata": {},
   "outputs": [],
   "source": [
    "\n",
    "# Tool to get popular attractions\n",
    "@tool\n",
    "def get_popular_attractions(input: AttractionInput) -> List[str]:\n",
    "    \"\"\"Get a list of popular attractions near a specified latitude and longitude using the Amadeus API.\"\"\"\n",
    "    token = get_amadeus_access_token()\n",
    "    url = \"https://test.api.amadeus.com/v1/shopping/activities\"\n",
    "    params = {\n",
    "        \"latitude\": input.latitude,\n",
    "        \"longitude\": input.longitude,\n",
    "        \"radius\": input.radius\n",
    "    }\n",
    "    headers = {\"Authorization\": f\"Bearer {token}\"}\n",
    "    response = requests.get(url, headers=headers, params=params)\n",
    "    response.raise_for_status()\n",
    "    \n",
    "    pois = response.json().get(\"data\", [])\n",
    "    #names = [poi[\"name\"] for poi in pois if poi.get(\"name\")] -> getting all relevant info below\n",
    "    print(f'Number of Point of Interests {len(pois)}')\n",
    "    pois_summaries = []\n",
    "\n",
    "    for poi in pois:\n",
    "        name = poi.get(\"name\")\n",
    "        description = poi.get(\"shortDescription\")\n",
    "        rating = poi.get(\"rating\")\n",
    "        price_info = poi.get(\"price\", {})\n",
    "        price = price_info.get(\"amount\")\n",
    "        currency = price_info.get(\"currencyCode\")\n",
    "        summary = f\"{name} - Rated {rating}/5, Average Price: {price} {currency}\"\n",
    "        pois_summaries.append(summary)\n",
    "    \n",
    "    return pois_summaries or [\"No attractions found near this location.\"]\n",
    "\n",
    "# Tool to get hotels\n",
    "# use Amedeus /v3/shopping/hotel-offers end point to get hotels with price. for now getting just hotel names.\n",
    "@tool\n",
    "def get_hotels_in_city(input: HotelInput) -> List[str]:\n",
    "    \"\"\"\n",
    "    Get the top 10 hotel names in the specified city with their distance using the city code represeting the city.\n",
    "\n",
    "    Format: \"Hotel Name - X km away\"\n",
    "\n",
    "    Parameters:\n",
    "        input (HotelInput): Includes city_code and optional radius (in km).\n",
    "\n",
    "    Returns:\n",
    "        List[str]: A list of hotel descriptions in the desired format.\n",
    "    \"\"\"\n",
    "\n",
    "    token = get_amadeus_access_token()\n",
    "    url = \"https://test.api.amadeus.com/v1/reference-data/locations/hotels/by-city\"\n",
    "    params = {\"cityCode\": input.city_code,\n",
    "              \"radius\": input.radius}\n",
    "    headers = {\"Authorization\": f\"Bearer {token}\"}\n",
    "    \n",
    "    response = requests.get(url, headers=headers, params=params)\n",
    "    response.raise_for_status()\n",
    "    \n",
    "    hotels = response.json().get(\"data\", [])\n",
    "    \n",
    "    #names = [hotel[\"name\"] for hotel in hotels if \"name\" in hotel]\n",
    "    #return names or [\"No hotels found for the given city.\"]\n",
    "\n",
    "    # Filter and format\n",
    "    formatted_hotels = []\n",
    "    for hotel in hotels:\n",
    "        name = hotel.get(\"name\")\n",
    "        distance = hotel.get(\"distance\", {}).get(\"value\")\n",
    "        unit = hotel.get(\"distance\", {}).get(\"unit\", \"KM\")\n",
    "        if name and distance is not None:\n",
    "            formatted_hotels.append((name, distance, unit))\n",
    "\n",
    "    # Sort by distance and limit to top 10\n",
    "    formatted_hotels.sort(key=lambda x: x[1])\n",
    "    top_10 = formatted_hotels[:10]\n",
    "\n",
    "    # Final string formatting\n",
    "    return [f\"{name} - {distance:.1f}{unit.lower()} away\" for name, distance, unit in top_10] or \\\n",
    "           [\"No hotels found for the given city.\"]\n",
    "\n",
    "\n",
    "# Tool to get city code for the city name\n",
    "@tool\n",
    "def city_search(input: CitySearchInput) -> dict:\n",
    "    \"\"\"\n",
    "    Searches for a city code from keyword of the city in the destination address using Amadeus City Search API and returns:\n",
    "      - city_name\n",
    "      - iata_code\n",
    "      - latitude, longitude\n",
    "      - list of associated airport codes\n",
    "    \"\"\"\n",
    "    token = get_amadeus_access_token()\n",
    "\n",
    "    params = {\"keyword\": input.keyword, \"include\":\"AIRPORTS\"}\n",
    "    if input.country_code:\n",
    "        params[\"countryCode\"] = input.country_code\n",
    "    url = \"https://test.api.amadeus.com/v1/reference-data/locations/cities\"\n",
    "    response = requests.get(url, headers={\"Authorization\":f\"Bearer {token}\"}, params=params)\n",
    "    response.raise_for_status()\n",
    "\n",
    "    data = response.json().get(\"data\", [])\n",
    "    if not data:\n",
    "        return {\"error\": f\"No city found matching '{input.keyword}'\"}\n",
    "    print(f'city data : {data}')\n",
    "    top = data[0]\n",
    "    iata = top.get(\"iataCode\")\n",
    "    lat = top.get(\"geoCode\", {}).get(\"latitude\")\n",
    "    lon = top.get(\"geoCode\", {}).get(\"longitude\")\n",
    "    relationships = top.get(\"relationships\", [])\n",
    "    airports = [rel.get(\"id\") for rel in relationships if rel.get(\"type\") == \"Airport\"]\n",
    "\n",
    "    return {\"city_name\": top.get(\"name\"), \"iata_code\": iata, \"latitude\": lat, \"longitude\": lon, \"airports\": airports}"
   ]
  },
  {
   "cell_type": "code",
   "execution_count": null,
   "id": "986195cb",
   "metadata": {},
   "outputs": [
    {
     "name": "stdout",
     "output_type": "stream",
     "text": [
      "length of data 9\n"
     ]
    }
   ],
   "source": [
    "lat = 37.7576713\n",
    "lon = -122.5200013\n",
    "rad = 20\n",
    "input_data=AttractionInput(latitude=lat,longitude=lon,radius=rad)\n",
    "attractions = get_popular_attractions.invoke({\"input\" : input_data})\n"
   ]
  },
  {
   "cell_type": "code",
   "execution_count": 95,
   "id": "b846ef20",
   "metadata": {},
   "outputs": [
    {
     "data": {
      "text/plain": [
       "['California-Caribbean Family Style Dinner // Alamo Square - Rated None/5, Average Price: 120.0 USD',\n",
       " 'Truffle Risotto Demystified // Mission Bay - Rated None/5, Average Price: 126.0 USD',\n",
       " 'Sake Tasting & Food Pairing with a Sake Sommelier  - Rated None/5, Average Price: 48.0 USD',\n",
       " 'Italian Fresh Pasta Ravioli // Potrero Hill - Rated None/5, Average Price: 108.0 USD',\n",
       " 'New York Style Pizza Class // Mission Bay - Rated None/5, Average Price: 132.0 USD',\n",
       " 'Paella & Tapas Cooking Class // Mission Bay - Rated None/5, Average Price: 132.0 USD',\n",
       " 'San Francisco Sizzler: Neapolitan Pizza Making Class - Rated None/5, Average Price: 162.0 USD',\n",
       " 'Unleash your Inner Artist: Cooking Class and Market Tour in Haight Ashbury - Rated None/5, Average Price: 214.8 USD',\n",
       " 'Sunday Red Caviar and Crepes Brunch with Mimosas in San Francisco - Rated None/5, Average Price: 54.0 USD']"
      ]
     },
     "execution_count": 95,
     "metadata": {},
     "output_type": "execute_result"
    }
   ],
   "source": [
    "attractions"
   ]
  },
  {
   "cell_type": "code",
   "execution_count": null,
   "id": "c6e2dac8",
   "metadata": {},
   "outputs": [
    {
     "name": "stdout",
     "output_type": "stream",
     "text": [
      "city data : [{'type': 'location', 'subType': 'city', 'name': 'Paris', 'iataCode': 'PAR', 'address': {'countryCode': 'FR', 'stateCode': 'FR-75'}, 'geoCode': {'latitude': 48.85341, 'longitude': 2.3488}, 'relationships': [{'id': 'BVA', 'type': 'Airport', 'href': '#/included/airports/BVA'}, {'id': 'CDG', 'type': 'Airport', 'href': '#/included/airports/CDG'}, {'id': 'ORY', 'type': 'Airport', 'href': '#/included/airports/ORY'}, {'id': 'XCR', 'type': 'Airport', 'href': '#/included/airports/XCR'}]}, {'type': 'location', 'subType': 'city', 'name': 'Le Touquet-Paris-Plage', 'iataCode': 'LTQ', 'address': {'countryCode': 'FR', 'stateCode': 'FR-62'}, 'geoCode': {'latitude': 50.52432, 'longitude': 1.58571}, 'relationships': [{'id': 'LIL', 'type': 'Airport', 'href': '#/included/airports/LIL'}]}, {'type': 'location', 'subType': 'city', 'name': 'Paris', 'iataCode': 'PHT', 'address': {'countryCode': 'US', 'stateCode': 'US-TN'}, 'geoCode': {'latitude': 36.302, 'longitude': -88.32671}, 'relationships': [{'id': 'PHT', 'type': 'Airport', 'href': '#/included/airports/PHT'}]}, {'type': 'location', 'subType': 'city', 'name': 'Paris', 'iataCode': 'PRX', 'address': {'countryCode': 'US', 'stateCode': 'US-TX'}, 'geoCode': {'latitude': 33.66094, 'longitude': -95.55551}, 'relationships': [{'id': 'PRX', 'type': 'Airport', 'href': '#/included/airports/PRX'}]}, {'type': 'location', 'subType': 'city', 'name': 'Paris', 'address': {'countryCode': 'CA', 'stateCode': 'CA-ON'}, 'geoCode': {'latitude': 43.2, 'longitude': -80.38333}, 'relationships': [{'id': 'YXU', 'type': 'Airport', 'href': '#/included/airports/YXU'}]}, {'type': 'location', 'subType': 'city', 'name': 'Villeparisis', 'address': {'countryCode': 'FR', 'stateCode': 'FR-77'}, 'geoCode': {'latitude': 48.94208, 'longitude': 2.61463}, 'relationships': [{'id': 'BVA', 'type': 'Airport', 'href': '#/included/airports/BVA'}, {'id': 'CDG', 'type': 'Airport', 'href': '#/included/airports/CDG'}, {'id': 'ORY', 'type': 'Airport', 'href': '#/included/airports/ORY'}, {'id': 'XCR', 'type': 'Airport', 'href': '#/included/airports/XCR'}]}, {'type': 'location', 'subType': 'city', 'name': 'Cormeilles-en-Parisis', 'address': {'countryCode': 'FR', 'stateCode': 'FR-95'}, 'geoCode': {'latitude': 48.97111, 'longitude': 2.20491}, 'relationships': [{'id': 'BVA', 'type': 'Airport', 'href': '#/included/airports/BVA'}, {'id': 'CDG', 'type': 'Airport', 'href': '#/included/airports/CDG'}, {'id': 'ORY', 'type': 'Airport', 'href': '#/included/airports/ORY'}, {'id': 'XCR', 'type': 'Airport', 'href': '#/included/airports/XCR'}]}, {'type': 'location', 'subType': 'city', 'name': 'Seyssinet-Pariset', 'address': {'countryCode': 'FR', 'stateCode': 'FR-38'}, 'geoCode': {'latitude': 45.17675, 'longitude': 5.69387}, 'relationships': [{'id': 'CMF', 'type': 'Airport', 'href': '#/included/airports/CMF'}]}, {'type': 'location', 'subType': 'city', 'name': 'Damparis', 'address': {'countryCode': 'FR', 'stateCode': 'FR-39'}, 'geoCode': {'latitude': 47.07556, 'longitude': 5.41398}, 'relationships': [{'id': 'GNB', 'type': 'Airport', 'href': '#/included/airports/GNB'}, {'id': 'LYS', 'type': 'Airport', 'href': '#/included/airports/LYS'}]}, {'type': 'location', 'subType': 'city', 'name': 'Fontenay-en-Parisis', 'address': {'countryCode': 'FR', 'stateCode': 'FR-95'}, 'geoCode': {'latitude': 49.05371, 'longitude': 2.45156}, 'relationships': [{'id': 'BVA', 'type': 'Airport', 'href': '#/included/airports/BVA'}, {'id': 'CDG', 'type': 'Airport', 'href': '#/included/airports/CDG'}, {'id': 'ORY', 'type': 'Airport', 'href': '#/included/airports/ORY'}, {'id': 'XCR', 'type': 'Airport', 'href': '#/included/airports/XCR'}]}, {'type': 'location', 'subType': 'city', 'name': 'Parisot', 'address': {'countryCode': 'FR', 'stateCode': 'FR-81'}, 'geoCode': {'latitude': 43.79997, 'longitude': 1.82871}, 'relationships': [{'id': 'TLS', 'type': 'Airport', 'href': '#/included/airports/TLS'}]}, {'type': 'location', 'subType': 'city', 'name': 'Whiteparish', 'address': {'countryCode': 'GB', 'stateCode': 'GB-ZZZ'}, 'geoCode': {'latitude': 51.01041, 'longitude': -1.64855}, 'relationships': [{'id': 'SOU', 'type': 'Airport', 'href': '#/included/airports/SOU'}]}, {'type': 'location', 'subType': 'city', 'name': 'Kyparissia', 'address': {'countryCode': 'GR', 'stateCode': 'GR-ZZZ'}, 'geoCode': {'latitude': 37.25111, 'longitude': 21.67361}, 'relationships': [{'id': 'ATH', 'type': 'Airport', 'href': '#/included/airports/ATH'}]}, {'type': 'location', 'subType': 'city', 'name': 'Fond Parisien', 'address': {'countryCode': 'HT', 'stateCode': 'HT-ZZZ'}, 'geoCode': {'latitude': 18.50547, 'longitude': -71.98122}, 'relationships': [{'id': 'PAP', 'type': 'Airport', 'href': '#/included/airports/PAP'}]}, {'type': 'location', 'subType': 'city', 'name': 'Danauparis', 'address': {'countryCode': 'ID', 'stateCode': 'ID-ZZZ'}, 'geoCode': {'latitude': 2.41096, 'longitude': 98.08537}, 'relationships': [{'id': 'DTB', 'type': 'Airport', 'href': '#/included/airports/DTB'}]}, {'type': 'location', 'subType': 'city', 'name': 'Paris', 'address': {'countryCode': 'PA', 'stateCode': 'PA-ZZZ'}, 'geoCode': {'latitude': 8.05053, 'longitude': -80.55409}, 'relationships': [{'id': 'RIH', 'type': 'Airport', 'href': '#/included/airports/RIH'}]}, {'type': 'location', 'subType': 'city', 'name': 'Parista', 'address': {'countryCode': 'PH', 'stateCode': 'PH-ZZZ'}, 'geoCode': {'latitude': 15.8536, 'longitude': 120.9282}, 'relationships': [{'id': 'CRK', 'type': 'Airport', 'href': '#/included/airports/CRK'}]}, {'type': 'location', 'subType': 'city', 'name': 'Kiparisovo', 'address': {'countryCode': 'RU', 'stateCode': 'RU-ZZZ'}, 'geoCode': {'latitude': 43.4782, 'longitude': 131.9225}, 'relationships': [{'id': 'VVO', 'type': 'Airport', 'href': '#/included/airports/VVO'}]}, {'type': 'location', 'subType': 'city', 'name': 'Kiparisovo', 'address': {'countryCode': 'RU', 'stateCode': 'RU-ZZZ'}, 'geoCode': {'latitude': 43.44835, 'longitude': 131.9318}, 'relationships': [{'id': 'VVO', 'type': 'Airport', 'href': '#/included/airports/VVO'}]}, {'type': 'location', 'subType': 'city', 'name': 'Kiparisovo-2', 'address': {'countryCode': 'RU', 'stateCode': 'RU-ZZZ'}, 'geoCode': {'latitude': 43.44818, 'longitude': 131.9331}, 'relationships': [{'id': 'VVO', 'type': 'Airport', 'href': '#/included/airports/VVO'}]}, {'type': 'location', 'subType': 'city', 'name': 'Paris', 'address': {'countryCode': 'US', 'stateCode': 'US-KY'}, 'geoCode': {'latitude': 38.2098, 'longitude': -84.25299}, 'relationships': [{'id': 'LEX', 'type': 'Airport', 'href': '#/included/airports/LEX'}]}, {'type': 'location', 'subType': 'city', 'name': 'Paris', 'address': {'countryCode': 'US', 'stateCode': 'US-IL'}, 'geoCode': {'latitude': 39.61115, 'longitude': -87.69614}, 'relationships': [{'id': 'CMI', 'type': 'Airport', 'href': '#/included/airports/CMI'}]}, {'type': 'location', 'subType': 'city', 'name': 'Paris', 'address': {'countryCode': 'US', 'stateCode': 'US-ME'}, 'geoCode': {'latitude': 44.25979, 'longitude': -70.50062}, 'relationships': [{'id': 'AUG', 'type': 'Airport', 'href': '#/included/airports/AUG'}]}, {'type': 'location', 'subType': 'city', 'name': 'Paris', 'address': {'countryCode': 'US', 'stateCode': 'US-AR'}, 'geoCode': {'latitude': 35.29203, 'longitude': -93.72992}, 'relationships': [{'id': 'FSM', 'type': 'Airport', 'href': '#/included/airports/FSM'}]}, {'type': 'location', 'subType': 'city', 'name': 'South Paris', 'address': {'countryCode': 'US', 'stateCode': 'US-ME'}, 'geoCode': {'latitude': 44.22368, 'longitude': -70.51339}, 'relationships': [{'id': 'AUG', 'type': 'Airport', 'href': '#/included/airports/AUG'}]}, {'type': 'location', 'subType': 'city', 'name': 'Saint Paris', 'address': {'countryCode': 'US', 'stateCode': 'US-OH'}, 'geoCode': {'latitude': 40.12839, 'longitude': -83.95966}, 'relationships': [{'id': 'DAY', 'type': 'Airport', 'href': '#/included/airports/DAY'}, {'id': 'MGY', 'type': 'Airport', 'href': '#/included/airports/MGY'}]}, {'type': 'location', 'subType': 'city', 'name': 'West Paris', 'address': {'countryCode': 'US', 'stateCode': 'US-ME'}, 'geoCode': {'latitude': 44.32423, 'longitude': -70.57395}, 'relationships': [{'id': 'AUG', 'type': 'Airport', 'href': '#/included/airports/AUG'}]}, {'type': 'location', 'subType': 'city', 'name': 'New Paris', 'address': {'countryCode': 'US', 'stateCode': 'US-OH'}, 'geoCode': {'latitude': 39.85699, 'longitude': -84.79329}, 'relationships': [{'id': 'DAY', 'type': 'Airport', 'href': '#/included/airports/DAY'}, {'id': 'MGY', 'type': 'Airport', 'href': '#/included/airports/MGY'}]}, {'type': 'location', 'subType': 'city', 'name': 'New Paris', 'address': {'countryCode': 'US', 'stateCode': 'US-IN'}, 'geoCode': {'latitude': 41.50033, 'longitude': -85.82805}, 'relationships': [{'id': 'SBN', 'type': 'Airport', 'href': '#/included/airports/SBN'}]}, {'type': 'location', 'subType': 'city', 'name': 'Paris', 'address': {'countryCode': 'US', 'stateCode': 'US-MO'}, 'geoCode': {'latitude': 39.48087, 'longitude': -92.00128}, 'relationships': [{'id': 'COU', 'type': 'Airport', 'href': '#/included/airports/COU'}]}, {'type': 'location', 'subType': 'city', 'name': 'Paris', 'address': {'countryCode': 'US', 'stateCode': 'US-PA'}, 'geoCode': {'latitude': 40.40368, 'longitude': -80.51257}, 'relationships': [{'id': 'AGC', 'type': 'Airport', 'href': '#/included/airports/AGC'}, {'id': 'PIT', 'type': 'Airport', 'href': '#/included/airports/PIT'}]}, {'type': 'location', 'subType': 'city', 'name': 'Parishville', 'address': {'countryCode': 'US', 'stateCode': 'US-NY'}, 'geoCode': {'latitude': 44.62867, 'longitude': -74.8138}, 'relationships': [{'id': 'PBG', 'type': 'Airport', 'href': '#/included/airports/PBG'}]}, {'type': 'location', 'subType': 'city', 'name': 'Paris', 'address': {'countryCode': 'US', 'stateCode': 'US-ID'}, 'geoCode': {'latitude': 42.22715, 'longitude': -111.40104}, 'relationships': [{'id': 'PIH', 'type': 'Airport', 'href': '#/included/airports/PIH'}]}]\n"
     ]
    }
   ],
   "source": [
    "# Test to see that city search function works fine to get iatacode for the city\n",
    "city_keyword = \"paris\"\n",
    "input_data=CitySearchInput(keyword=city_keyword)\n",
    "city_info = city_search.invoke({\"input\" : input_data})"
   ]
  },
  {
   "cell_type": "code",
   "execution_count": null,
   "id": "43456371",
   "metadata": {},
   "outputs": [
    {
     "data": {
      "text/plain": [
       "{'city_name': 'Paris',\n",
       " 'iata_code': 'PAR',\n",
       " 'latitude': 48.85341,\n",
       " 'longitude': 2.3488,\n",
       " 'airports': ['BVA', 'CDG', 'ORY', 'XCR']}"
      ]
     },
     "execution_count": 107,
     "metadata": {},
     "output_type": "execute_result"
    }
   ],
   "source": [
    "# display output\n",
    "city_info"
   ]
  },
  {
   "cell_type": "code",
   "execution_count": null,
   "id": "2423b21f",
   "metadata": {},
   "outputs": [],
   "source": [
    "# Test get hotels in city function from the city code\n",
    "city_code = \"PAR\"\n",
    "input_hotel_data=HotelInput(city_code=city_code)\n",
    "hotel_info = get_hotels_in_city.invoke({\"input\" : input_hotel_data})\n",
    "    "
   ]
  },
  {
   "cell_type": "code",
   "execution_count": null,
   "id": "26b33a7d",
   "metadata": {},
   "outputs": [
    {
     "data": {
      "text/plain": [
       "['HN TEST PROPERTY1 FOR E2E TESTING - 0.1km away',\n",
       " 'TEST PROPERTY FOR API ACTIVATE/DE-ACTIVA - 0.1km away',\n",
       " 'TEST PROPERTY FOR AZURE MIGRATION HCR - 0.1km away',\n",
       " 'HOTEL LES RIVES DE NOTRE DAME - 0.1km away',\n",
       " 'BW PREMIER ROYAL SAINT MICHEL - 0.2km away',\n",
       " 'HOTEL RESIDENCE DES ARTS - 0.2km away',\n",
       " 'HOTEL VILLA D ESTREES - 0.2km away',\n",
       " 'HOLIDAY INN PARIS-NOTRE DAME - 0.3km away',\n",
       " 'CITADINES SAINT GERMAIN PARIS - 0.3km away',\n",
       " 'HOTEL RELAIS CHRISTINE - 0.4km away']"
      ]
     },
     "execution_count": 126,
     "metadata": {},
     "output_type": "execute_result"
    }
   ],
   "source": [
    "# view results of hotel list\n",
    "hotel_info"
   ]
  },
  {
   "cell_type": "code",
   "execution_count": 130,
   "id": "d8070a47",
   "metadata": {},
   "outputs": [],
   "source": [
    "# Setup OpenAI's GPT-4o model for use with LangChain\n",
    "from langchain_openai import ChatOpenAI\n",
    "\n",
    "model = \"gpt-4o\"\n",
    "llm = ChatOpenAI(model_name=model, temperature=0.2)"
   ]
  },
  {
   "cell_type": "code",
   "execution_count": 131,
   "id": "48ecfbfe",
   "metadata": {},
   "outputs": [],
   "source": [
    "from typing import TypedDict, Annotated, Sequence\n",
    "# Define AgentState using TypedDict to hold the state of the agent\n",
    "# using Total=False to allow for optional fields\n",
    "class AgentState(TypedDict, total=False):\n",
    "    name: str  # The user's name for personalization\n",
    "    destination: str  # destination where the user is planning for the trip\n",
    "    days: int  # number of days the user is planning for the trip\n",
    "    messages: list[str]  # List of messages to keep track of conversation and activities\n",
    "\n",
    "# Initialize the agent state with default values\n",
    "agent_state: AgentState = {\n",
    "    \"name\": \"\",\n",
    "    \"destination\": \"\",\n",
    "    \"days\": 0,\n",
    "    \"messages\": []\n",
    "}"
   ]
  },
  {
   "cell_type": "code",
   "execution_count": 132,
   "id": "802ceab6",
   "metadata": {},
   "outputs": [],
   "source": [
    "# lets build langgraph workflow by importing the necessary components\n",
    "from langchain_core.messages import HumanMessage, SystemMessage\n",
    "from langgraph.graph import MessagesState,StateGraph, END, START"
   ]
  },
  {
   "cell_type": "code",
   "execution_count": 133,
   "id": "59d19a10",
   "metadata": {},
   "outputs": [],
   "source": [
    "# Use inbuilt tools from LangChain, DuckDuckGo to search the web as summarized result\n",
    "# Tavely tool gives web result, that needs to be summarized by LLM for result. DuckDuckGo summarizes the result\n",
    "from langchain.tools import DuckDuckGoSearchResults, DuckDuckGoSearchRun\n",
    "search = DuckDuckGoSearchRun()"
   ]
  },
  {
   "cell_type": "code",
   "execution_count": 134,
   "id": "332866e7",
   "metadata": {},
   "outputs": [],
   "source": [
    "# Use the tools with the model\n",
    "tools = [city_search, get_hotels_in_city, get_popular_attractions, get_weather_for_address, search]\n",
    "# bind tools with LLM\n",
    "llm_with_tools = llm.bind_tools(tools)"
   ]
  },
  {
   "cell_type": "code",
   "execution_count": 136,
   "id": "5ec1e7c6",
   "metadata": {},
   "outputs": [],
   "source": [
    "# Create system prompt to use in llm function below. put in list to add human message later\n",
    "system_prompt = [SystemMessage(\n",
    "    content=\"\"\"Your are an helpful Trip planning assistant. \n",
    "    Your task is to get information such as the user name, destination, number of days in the trip. \n",
    "    Ask the user for these info if user has not provided it to you.\n",
    "    Once you have those info. You get the city code, latitude and longitude for the destination given by the user.\n",
    "    You will get hotel list from city code. \n",
    "    you will get weather information from latitude and longitude.\n",
    "    You will get list of attractions in the destination from the latitude and longitude.\n",
    "    The output to the user to be presented are below:\n",
    "    - weather in the destination city\n",
    "    - Top 10 attractions and things to do with their cost\n",
    "    - Top 10 hotels in the destination city\n",
    "    - An estimate of daily and total cost of the trip\n",
    "    - Daily plan by day of the trip covering things to do, where to eat and getting around the city\n",
    "    - Summary of the trip\n",
    "    Personalize the response to the user\"\"\"\n",
    ")]\n",
    "\n",
    "# define the node to assess the user query for next step\n",
    "def assess_user_query(state:AgentState):\n",
    "    \"\"\" Function to assess user query, use relevant tools and summarize response to user query.\"\"\"    \n",
    "    \n",
    "    human_message=state[\"messages\"]\n",
    "\n",
    "    query = system_prompt + human_message\n",
    "    \n",
    "    response = llm_with_tools.invoke(query)\n",
    "    state[\"messages\"].append(response)\n",
    "    return state"
   ]
  },
  {
   "cell_type": "code",
   "execution_count": 137,
   "id": "8a9bc423",
   "metadata": {},
   "outputs": [],
   "source": [
    "# use ToolNode to create node fro tool list and prebuilt tools_condition to route tool back to llm or end\n",
    "from langgraph.prebuilt import ToolNode\n",
    "from langgraph.prebuilt import tools_condition\n",
    "\n",
    "# Create the workflow graph\n",
    "# We add edge from tools to llm_decision to overrides the tools_condition that routes tools to end, to create loop\n",
    "builder = StateGraph(MessagesState) \\\n",
    "                .add_node(\"assess_user_query\",assess_user_query) \\\n",
    "                .add_node(\"tools\", ToolNode(tools)) \\\n",
    "                .add_edge(START, \"assess_user_query\") \\\n",
    "                .add_conditional_edges(\"assess_user_query\", tools_condition) \\\n",
    "                .add_edge(\"tools\", \"assess_user_query\") "
   ]
  },
  {
   "cell_type": "code",
   "execution_count": 138,
   "id": "2a53d776",
   "metadata": {},
   "outputs": [
    {
     "data": {
      "image/png": "[encoded data removed]",
      "text/plain": [
       "<IPython.core.display.Image object>"
      ]
     },
     "metadata": {},
     "output_type": "display_data"
    }
   ],
   "source": [
    "#compile the graph\n",
    "trip_planner_app = builder.compile()\n",
    "# visualize the graph\n",
    "from IPython.display import Image, display\n",
    "display(Image(trip_planner_app.get_graph().draw_mermaid_png()))"
   ]
  },
  {
   "cell_type": "code",
   "execution_count": 139,
   "id": "fa923698",
   "metadata": {},
   "outputs": [
    {
     "name": "stdout",
     "output_type": "stream",
     "text": [
      "city data : [{'type': 'location', 'subType': 'city', 'name': 'San Francisco', 'iataCode': 'SFO', 'address': {'countryCode': 'US', 'stateCode': 'US-CA'}, 'geoCode': {'latitude': 37.77493, 'longitude': -122.41942}, 'relationships': [{'id': 'SFO', 'type': 'Airport', 'href': '#/included/airports/SFO'}]}, {'type': 'location', 'subType': 'city', 'name': 'San Francisco', 'address': {'countryCode': 'AR', 'stateCode': 'AR-X'}, 'geoCode': {'latitude': -31.42797, 'longitude': -62.08266}, 'relationships': [{'id': 'COR', 'type': 'Airport', 'href': '#/included/airports/COR'}]}, {'type': 'location', 'subType': 'city', 'name': 'San Francisco de Laishi', 'address': {'countryCode': 'AR', 'stateCode': 'AR-P'}, 'geoCode': {'latitude': -26.24262, 'longitude': -58.63039}, 'relationships': [{'id': 'FMA', 'type': 'Airport', 'href': '#/included/airports/FMA'}]}, {'type': 'location', 'subType': 'city', 'name': 'San Francisco del Monte de Oro', 'address': {'countryCode': 'AR', 'stateCode': 'AR-D'}, 'geoCode': {'latitude': -32.59825, 'longitude': -66.12539}, 'relationships': [{'id': 'COR', 'type': 'Airport', 'href': '#/included/airports/COR'}]}, {'type': 'location', 'subType': 'city', 'name': 'San Francisco del Chanar', 'address': {'countryCode': 'AR', 'stateCode': 'AR-X'}, 'geoCode': {'latitude': -29.7883, 'longitude': -63.94411}, 'relationships': [{'id': 'COR', 'type': 'Airport', 'href': '#/included/airports/COR'}]}, {'type': 'location', 'subType': 'city', 'name': 'San Francisco', 'address': {'countryCode': 'BO', 'stateCode': 'BO-ZZZ'}, 'geoCode': {'latitude': -20.71667, 'longitude': -64.7}, 'relationships': [{'id': 'TJA', 'type': 'Airport', 'href': '#/included/airports/TJA'}]}, {'type': 'location', 'subType': 'city', 'name': 'San Francisco', 'address': {'countryCode': 'CO', 'stateCode': 'CO-ZZZ'}, 'geoCode': {'latitude': 1.17644, 'longitude': -76.87838}, 'relationships': [{'id': 'PPN', 'type': 'Airport', 'href': '#/included/airports/PPN'}]}, {'type': 'location', 'subType': 'city', 'name': 'San Francisco', 'address': {'countryCode': 'CO', 'stateCode': 'CO-ZZZ'}, 'geoCode': {'latitude': 4.97876, 'longitude': -74.2927}, 'relationships': [{'id': 'BOG', 'type': 'Airport', 'href': '#/included/airports/BOG'}]}, {'type': 'location', 'subType': 'city', 'name': 'San Francisco', 'address': {'countryCode': 'CO', 'stateCode': 'CO-ZZZ'}, 'geoCode': {'latitude': 6.11667, 'longitude': -75.98333}, 'relationships': [{'id': 'EOH', 'type': 'Airport', 'href': '#/included/airports/EOH'}, {'id': 'MDE', 'type': 'Airport', 'href': '#/included/airports/MDE'}]}, {'type': 'location', 'subType': 'city', 'name': 'San Francisco', 'address': {'countryCode': 'CO', 'stateCode': 'CO-ZZZ'}, 'geoCode': {'latitude': 5.96426, 'longitude': -75.10165}, 'relationships': [{'id': 'EOH', 'type': 'Airport', 'href': '#/included/airports/EOH'}, {'id': 'MDE', 'type': 'Airport', 'href': '#/included/airports/MDE'}]}, {'type': 'location', 'subType': 'city', 'name': 'San Francisco', 'address': {'countryCode': 'CR', 'stateCode': 'CR-ZZZ'}, 'geoCode': {'latitude': 9.99299, 'longitude': -84.12934}, 'relationships': [{'id': 'SJO', 'type': 'Airport', 'href': '#/included/airports/SJO'}]}, {'type': 'location', 'subType': 'city', 'name': 'San Francisco de Macoris', 'address': {'countryCode': 'DO', 'stateCode': 'DO-ZZZ'}, 'geoCode': {'latitude': 19.30099, 'longitude': -70.25259}, 'relationships': [{'id': 'STI', 'type': 'Airport', 'href': '#/included/airports/STI'}]}, {'type': 'location', 'subType': 'city', 'name': 'San Francisco El Alto', 'address': {'countryCode': 'GT', 'stateCode': 'GT-ZZZ'}, 'geoCode': {'latitude': 14.9449, 'longitude': -91.4431}, 'relationships': [{'id': 'GUA', 'type': 'Airport', 'href': '#/included/airports/GUA'}]}, {'type': 'location', 'subType': 'city', 'name': 'San Francisco Zapotitlan', 'address': {'countryCode': 'GT', 'stateCode': 'GT-ZZZ'}, 'geoCode': {'latitude': 14.58939, 'longitude': -91.52144}, 'relationships': [{'id': 'GUA', 'type': 'Airport', 'href': '#/included/airports/GUA'}]}, {'type': 'location', 'subType': 'city', 'name': 'San Francisco', 'address': {'countryCode': 'GT', 'stateCode': 'GT-ZZZ'}, 'geoCode': {'latitude': 16.8, 'longitude': -89.93333}, 'relationships': [{'id': 'GUA', 'type': 'Airport', 'href': '#/included/airports/GUA'}]}, {'type': 'location', 'subType': 'city', 'name': 'San Francisco la Union', 'address': {'countryCode': 'GT', 'stateCode': 'GT-ZZZ'}, 'geoCode': {'latitude': 14.9235, 'longitude': -91.54157}, 'relationships': [{'id': 'GUA', 'type': 'Airport', 'href': '#/included/airports/GUA'}]}, {'type': 'location', 'subType': 'city', 'name': 'Villa de San Francisco', 'address': {'countryCode': 'HN', 'stateCode': 'HN-ZZZ'}, 'geoCode': {'latitude': 14.16667, 'longitude': -86.96667}, 'relationships': [{'id': 'TGU', 'type': 'Airport', 'href': '#/included/airports/TGU'}, {'id': 'XPL', 'type': 'Airport', 'href': '#/included/airports/XPL'}]}, {'type': 'location', 'subType': 'city', 'name': 'San Francisco de la Paz', 'address': {'countryCode': 'HN', 'stateCode': 'HN-ZZZ'}, 'geoCode': {'latitude': 14.9, 'longitude': -86.2}, 'relationships': [{'id': 'TGU', 'type': 'Airport', 'href': '#/included/airports/TGU'}, {'id': 'XPL', 'type': 'Airport', 'href': '#/included/airports/XPL'}]}, {'type': 'location', 'subType': 'city', 'name': 'San Francisco', 'address': {'countryCode': 'HN', 'stateCode': 'HN-ZZZ'}, 'geoCode': {'latitude': 15.65, 'longitude': -87.05}, 'relationships': [{'id': 'RTB', 'type': 'Airport', 'href': '#/included/airports/RTB'}]}, {'type': 'location', 'subType': 'city', 'name': 'San Francisco de Becerra', 'address': {'countryCode': 'HN', 'stateCode': 'HN-ZZZ'}, 'geoCode': {'latitude': 14.63333, 'longitude': -86.1}, 'relationships': [{'id': 'TGU', 'type': 'Airport', 'href': '#/included/airports/TGU'}, {'id': 'XPL', 'type': 'Airport', 'href': '#/included/airports/XPL'}]}, {'type': 'location', 'subType': 'city', 'name': 'San Francisco de Yojoa', 'address': {'countryCode': 'HN', 'stateCode': 'HN-ZZZ'}, 'geoCode': {'latitude': 15.01667, 'longitude': -87.96667}, 'relationships': [{'id': 'SAP', 'type': 'Airport', 'href': '#/included/airports/SAP'}]}, {'type': 'location', 'subType': 'city', 'name': 'San Francisco del Valle', 'address': {'countryCode': 'HN', 'stateCode': 'HN-ZZZ'}, 'geoCode': {'latitude': 14.43333, 'longitude': -88.95}, 'relationships': [{'id': 'SAP', 'type': 'Airport', 'href': '#/included/airports/SAP'}]}, {'type': 'location', 'subType': 'city', 'name': 'San Francisco de Coray', 'address': {'countryCode': 'HN', 'stateCode': 'HN-ZZZ'}, 'geoCode': {'latitude': 13.66139, 'longitude': -87.53278}, 'relationships': [{'id': 'TGU', 'type': 'Airport', 'href': '#/included/airports/TGU'}, {'id': 'XPL', 'type': 'Airport', 'href': '#/included/airports/XPL'}]}, {'type': 'location', 'subType': 'city', 'name': 'San Francisco de Cones', 'address': {'countryCode': 'HN', 'stateCode': 'HN-ZZZ'}, 'geoCode': {'latitude': 14.51667, 'longitude': -88.9}, 'relationships': [{'id': 'SAP', 'type': 'Airport', 'href': '#/included/airports/SAP'}]}, {'type': 'location', 'subType': 'city', 'name': 'San Francisco', 'address': {'countryCode': 'HN', 'stateCode': 'HN-ZZZ'}, 'geoCode': {'latitude': 13.36667, 'longitude': -86.9}, 'relationships': [{'id': 'TGU', 'type': 'Airport', 'href': '#/included/airports/TGU'}, {'id': 'XPL', 'type': 'Airport', 'href': '#/included/airports/XPL'}]}, {'type': 'location', 'subType': 'city', 'name': 'San Francisco de Ojuera', 'address': {'countryCode': 'HN', 'stateCode': 'HN-ZZZ'}, 'geoCode': {'latitude': 14.75, 'longitude': -88.18333}, 'relationships': [{'id': 'SAP', 'type': 'Airport', 'href': '#/included/airports/SAP'}]}, {'type': 'location', 'subType': 'city', 'name': 'San Francisco del Rincon', 'address': {'countryCode': 'MX', 'stateCode': 'MX-ZZZ'}, 'geoCode': {'latitude': 21.01843, 'longitude': -101.85515}, 'relationships': [{'id': 'BJX', 'type': 'Airport', 'href': '#/included/airports/BJX'}]}, {'type': 'location', 'subType': 'city', 'name': 'San Francisco Acuautla', 'address': {'countryCode': 'MX', 'stateCode': 'MX-ZZZ'}, 'geoCode': {'latitude': 19.34564, 'longitude': -98.86034}, 'relationships': [{'id': 'MEX', 'type': 'Airport', 'href': '#/included/airports/MEX'}, {'id': 'TLC', 'type': 'Airport', 'href': '#/included/airports/TLC'}]}, {'type': 'location', 'subType': 'city', 'name': 'San Francisco Cuaxusco', 'address': {'countryCode': 'MX', 'stateCode': 'MX-ZZZ'}, 'geoCode': {'latitude': 19.26755, 'longitude': -99.61925}, 'relationships': [{'id': 'MEX', 'type': 'Airport', 'href': '#/included/airports/MEX'}, {'id': 'TLC', 'type': 'Airport', 'href': '#/included/airports/TLC'}]}, {'type': 'location', 'subType': 'city', 'name': 'San Francisco Tlalcilalcalpan', 'address': {'countryCode': 'MX', 'stateCode': 'MX-ZZZ'}, 'geoCode': {'latitude': 19.29474, 'longitude': -99.76771}, 'relationships': [{'id': 'MEX', 'type': 'Airport', 'href': '#/included/airports/MEX'}, {'id': 'TLC', 'type': 'Airport', 'href': '#/included/airports/TLC'}]}, {'type': 'location', 'subType': 'city', 'name': 'San Francisco de los Romo', 'address': {'countryCode': 'MX', 'stateCode': 'MX-ZZZ'}, 'geoCode': {'latitude': 22.07748, 'longitude': -102.2714}, 'relationships': [{'id': 'AGU', 'type': 'Airport', 'href': '#/included/airports/AGU'}]}, {'type': 'location', 'subType': 'city', 'name': 'San Francisco Ocotlan', 'address': {'countryCode': 'MX', 'stateCode': 'MX-ZZZ'}, 'geoCode': {'latitude': 19.13411, 'longitude': -98.28345}, 'relationships': [{'id': 'PBC', 'type': 'Airport', 'href': '#/included/airports/PBC'}]}, {'type': 'location', 'subType': 'city', 'name': 'San Francisco Tecoxpa', 'address': {'countryCode': 'MX', 'stateCode': 'MX-ZZZ'}, 'geoCode': {'latitude': 19.19167, 'longitude': -99.00639}, 'relationships': [{'id': 'MEX', 'type': 'Airport', 'href': '#/included/airports/MEX'}, {'id': 'TLC', 'type': 'Airport', 'href': '#/included/airports/TLC'}]}, {'type': 'location', 'subType': 'city', 'name': 'San Francisco Telixtlahuaca', 'address': {'countryCode': 'MX', 'stateCode': 'MX-ZZZ'}, 'geoCode': {'latitude': 17.29684, 'longitude': -96.90529}, 'relationships': [{'id': 'OAX', 'type': 'Airport', 'href': '#/included/airports/OAX'}]}, {'type': 'location', 'subType': 'city', 'name': 'San Francisco Tetlanohcan', 'address': {'countryCode': 'MX', 'stateCode': 'MX-ZZZ'}, 'geoCode': {'latitude': 19.2602, 'longitude': -98.1637}, 'relationships': [{'id': 'PBC', 'type': 'Airport', 'href': '#/included/airports/PBC'}]}, {'type': 'location', 'subType': 'city', 'name': 'San Francisco Chimalpa', 'address': {'countryCode': 'MX', 'stateCode': 'MX-ZZZ'}, 'geoCode': {'latitude': 19.44279, 'longitude': -99.34398}, 'relationships': [{'id': 'MEX', 'type': 'Airport', 'href': '#/included/airports/MEX'}, {'id': 'TLC', 'type': 'Airport', 'href': '#/included/airports/TLC'}]}, {'type': 'location', 'subType': 'city', 'name': 'San Francisco Zacacalco', 'address': {'countryCode': 'MX', 'stateCode': 'MX-ZZZ'}, 'geoCode': {'latitude': 19.92875, 'longitude': -98.98279}, 'relationships': [{'id': 'MEX', 'type': 'Airport', 'href': '#/included/airports/MEX'}, {'id': 'TLC', 'type': 'Airport', 'href': '#/included/airports/TLC'}]}, {'type': 'location', 'subType': 'city', 'name': 'San Francisco Pujiltic', 'address': {'countryCode': 'MX', 'stateCode': 'MX-ZZZ'}, 'geoCode': {'latitude': 16.27922, 'longitude': -92.45319}, 'relationships': [{'id': 'TGZ', 'type': 'Airport', 'href': '#/included/airports/TGZ'}]}, {'type': 'location', 'subType': 'city', 'name': 'San Francisco Tepeolulco', 'address': {'countryCode': 'MX', 'stateCode': 'MX-ZZZ'}, 'geoCode': {'latitude': 19.83291, 'longitude': -99.98834}, 'relationships': [{'id': 'QRO', 'type': 'Airport', 'href': '#/included/airports/QRO'}]}, {'type': 'location', 'subType': 'city', 'name': 'San Francisco Ixhuatan', 'address': {'countryCode': 'MX', 'stateCode': 'MX-ZZZ'}, 'geoCode': {'latitude': 16.35109, 'longitude': -94.48402}, 'relationships': [{'id': 'IZT', 'type': 'Airport', 'href': '#/included/airports/IZT'}]}, {'type': 'location', 'subType': 'city', 'name': 'San Francisco de Asis', 'address': {'countryCode': 'MX', 'stateCode': 'MX-ZZZ'}, 'geoCode': {'latitude': 20.59694, 'longitude': -102.56361}, 'relationships': [{'id': 'GDL', 'type': 'Airport', 'href': '#/included/airports/GDL'}]}, {'type': 'location', 'subType': 'city', 'name': 'San Francisco Magu', 'address': {'countryCode': 'MX', 'stateCode': 'MX-ZZZ'}, 'geoCode': {'latitude': 19.6854, 'longitude': -99.348}, 'relationships': [{'id': 'MEX', 'type': 'Airport', 'href': '#/included/airports/MEX'}, {'id': 'TLC', 'type': 'Airport', 'href': '#/included/airports/TLC'}]}, {'type': 'location', 'subType': 'city', 'name': 'San Francisco del Mar', 'address': {'countryCode': 'MX', 'stateCode': 'MX-ZZZ'}, 'geoCode': {'latitude': 16.33987, 'longitude': -94.51529}, 'relationships': [{'id': 'IZT', 'type': 'Airport', 'href': '#/included/airports/IZT'}]}, {'type': 'location', 'subType': 'city', 'name': 'San Francisco Tepeyecac', 'address': {'countryCode': 'MX', 'stateCode': 'MX-ZZZ'}, 'geoCode': {'latitude': 19.24861, 'longitude': -98.43833}, 'relationships': [{'id': 'PBC', 'type': 'Airport', 'href': '#/included/airports/PBC'}]}, {'type': 'location', 'subType': 'city', 'name': 'San Francisco del Mar Viejo', 'address': {'countryCode': 'MX', 'stateCode': 'MX-ZZZ'}, 'geoCode': {'latitude': 16.23185, 'longitude': -94.63297}, 'relationships': [{'id': 'IZT', 'type': 'Airport', 'href': '#/included/airports/IZT'}]}, {'type': 'location', 'subType': 'city', 'name': 'San Francisco Xochicuautla', 'address': {'countryCode': 'MX', 'stateCode': 'MX-ZZZ'}, 'geoCode': {'latitude': 19.37291, 'longitude': -99.4453}, 'relationships': [{'id': 'MEX', 'type': 'Airport', 'href': '#/included/airports/MEX'}, {'id': 'TLC', 'type': 'Airport', 'href': '#/included/airports/TLC'}]}, {'type': 'location', 'subType': 'city', 'name': 'San Francisco Ayotuzco', 'address': {'countryCode': 'MX', 'stateCode': 'MX-ZZZ'}, 'geoCode': {'latitude': 19.36583, 'longitude': -99.35694}, 'relationships': [{'id': 'MEX', 'type': 'Airport', 'href': '#/included/airports/MEX'}, {'id': 'TLC', 'type': 'Airport', 'href': '#/included/airports/TLC'}]}, {'type': 'location', 'subType': 'city', 'name': 'San Francisco Tenopalco', 'address': {'countryCode': 'MX', 'stateCode': 'MX-ZZZ'}, 'geoCode': {'latitude': 19.71259, 'longitude': -99.11616}, 'relationships': [{'id': 'MEX', 'type': 'Airport', 'href': '#/included/airports/MEX'}, {'id': 'TLC', 'type': 'Airport', 'href': '#/included/airports/TLC'}]}, {'type': 'location', 'subType': 'city', 'name': 'San Francisco Putla', 'address': {'countryCode': 'MX', 'stateCode': 'MX-ZZZ'}, 'geoCode': {'latitude': 19.12778, 'longitude': -99.63556}, 'relationships': [{'id': 'MEX', 'type': 'Airport', 'href': '#/included/airports/MEX'}, {'id': 'TLC', 'type': 'Airport', 'href': '#/included/airports/TLC'}]}, {'type': 'location', 'subType': 'city', 'name': 'San Francisco Mazapa', 'address': {'countryCode': 'MX', 'stateCode': 'MX-ZZZ'}, 'geoCode': {'latitude': 19.69142, 'longitude': -98.83442}, 'relationships': [{'id': 'MEX', 'type': 'Airport', 'href': '#/included/airports/MEX'}, {'id': 'TLC', 'type': 'Airport', 'href': '#/included/airports/TLC'}]}, {'type': 'location', 'subType': 'city', 'name': 'San Francisco', 'address': {'countryCode': 'MX', 'stateCode': 'MX-ZZZ'}, 'geoCode': {'latitude': 20.55254, 'longitude': -98.00209}, 'relationships': [{'id': 'PAZ', 'type': 'Airport', 'href': '#/included/airports/PAZ'}]}, {'type': 'location', 'subType': 'city', 'name': 'San Francisco Lachigolo', 'address': {'countryCode': 'MX', 'stateCode': 'MX-ZZZ'}, 'geoCode': {'latitude': 17.01624, 'longitude': -96.59947}, 'relationships': [{'id': 'OAX', 'type': 'Airport', 'href': '#/included/airports/OAX'}]}, {'type': 'location', 'subType': 'city', 'name': 'San Francisco Tutla', 'address': {'countryCode': 'MX', 'stateCode': 'MX-ZZZ'}, 'geoCode': {'latitude': 17.07092, 'longitude': -96.6681}, 'relationships': [{'id': 'OAX', 'type': 'Airport', 'href': '#/included/airports/OAX'}]}, {'type': 'location', 'subType': 'city', 'name': 'San Francisco Tepexoxica', 'address': {'countryCode': 'MX', 'stateCode': 'MX-ZZZ'}, 'geoCode': {'latitude': 19.06043, 'longitude': -99.54783}, 'relationships': [{'id': 'MEX', 'type': 'Airport', 'href': '#/included/airports/MEX'}, {'id': 'TLC', 'type': 'Airport', 'href': '#/included/airports/TLC'}]}, {'type': 'location', 'subType': 'city', 'name': 'San Francisco', 'address': {'countryCode': 'MX', 'stateCode': 'MX-ZZZ'}, 'geoCode': {'latitude': 18.94931, 'longitude': -99.64723}, 'relationships': [{'id': 'MEX', 'type': 'Airport', 'href': '#/included/airports/MEX'}, {'id': 'TLC', 'type': 'Airport', 'href': '#/included/airports/TLC'}]}, {'type': 'location', 'subType': 'city', 'name': 'San Francisco', 'address': {'countryCode': 'MX', 'stateCode': 'MX-ZZZ'}, 'geoCode': {'latitude': 19.77722, 'longitude': -97.32806}, 'relationships': [{'id': 'PAZ', 'type': 'Airport', 'href': '#/included/airports/PAZ'}]}, {'type': 'location', 'subType': 'city', 'name': 'San Francisco Cuautlancingo', 'address': {'countryCode': 'MX', 'stateCode': 'MX-ZZZ'}, 'geoCode': {'latitude': 18.9969, 'longitude': -97.41491}, 'relationships': [{'id': 'PBC', 'type': 'Airport', 'href': '#/included/airports/PBC'}]}, {'type': 'location', 'subType': 'city', 'name': 'San Francisco Cuapa', 'address': {'countryCode': 'MX', 'stateCode': 'MX-ZZZ'}, 'geoCode': {'latitude': 19.06835, 'longitude': -98.36562}, 'relationships': [{'id': 'PBC', 'type': 'Airport', 'href': '#/included/airports/PBC'}]}, {'type': 'location', 'subType': 'city', 'name': 'San Francisco Independencia (Santa Maria Aserradero)', 'address': {'countryCode': 'MX', 'stateCode': 'MX-ZZZ'}, 'geoCode': {'latitude': 19.06889, 'longitude': -97.43028}, 'relationships': [{'id': 'PBC', 'type': 'Airport', 'href': '#/included/airports/PBC'}]}, {'type': 'location', 'subType': 'city', 'name': 'Prados San Francisco', 'address': {'countryCode': 'MX', 'stateCode': 'MX-ZZZ'}, 'geoCode': {'latitude': 19.72154, 'longitude': -99.08366}, 'relationships': [{'id': 'MEX', 'type': 'Airport', 'href': '#/included/airports/MEX'}, {'id': 'TLC', 'type': 'Airport', 'href': '#/included/airports/TLC'}]}, {'type': 'location', 'subType': 'city', 'name': 'San Francisco (El Calvito)', 'address': {'countryCode': 'MX', 'stateCode': 'MX-ZZZ'}, 'geoCode': {'latitude': 16.32167, 'longitude': -92.56194}, 'relationships': [{'id': 'TGZ', 'type': 'Airport', 'href': '#/included/airports/TGZ'}]}, {'type': 'location', 'subType': 'city', 'name': 'San Francisco Mihualtepec', 'address': {'countryCode': 'MX', 'stateCode': 'MX-ZZZ'}, 'geoCode': {'latitude': 19.24507, 'longitude': -100.0983}, 'relationships': [{'id': 'MEX', 'type': 'Airport', 'href': '#/included/airports/MEX'}, {'id': 'TLC', 'type': 'Airport', 'href': '#/included/airports/TLC'}]}, {'type': 'location', 'subType': 'city', 'name': 'San Francisco de Duran', 'address': {'countryCode': 'MX', 'stateCode': 'MX-ZZZ'}, 'geoCode': {'latitude': 21.00513, 'longitude': -101.6199}, 'relationships': [{'id': 'BJX', 'type': 'Airport', 'href': '#/included/airports/BJX'}]}, {'type': 'location', 'subType': 'city', 'name': 'San Francisco Tetetla', 'address': {'countryCode': 'MX', 'stateCode': 'MX-ZZZ'}, 'geoCode': {'latitude': 19.11669, 'longitude': -99.60141}, 'relationships': [{'id': 'MEX', 'type': 'Airport', 'href': '#/included/airports/MEX'}, {'id': 'TLC', 'type': 'Airport', 'href': '#/included/airports/TLC'}]}, {'type': 'location', 'subType': 'city', 'name': 'San Francisco Temetzontla', 'address': {'countryCode': 'MX', 'stateCode': 'MX-ZZZ'}, 'geoCode': {'latitude': 19.35028, 'longitude': -98.28861}, 'relationships': [{'id': 'PBC', 'type': 'Airport', 'href': '#/included/airports/PBC'}]}, {'type': 'location', 'subType': 'city', 'name': 'San Francisco Chalchihuapan', 'address': {'countryCode': 'MX', 'stateCode': 'MX-ZZZ'}, 'geoCode': {'latitude': 19.77, 'longitude': -99.82167}, 'relationships': [{'id': 'MEX', 'type': 'Airport', 'href': '#/included/airports/MEX'}, {'id': 'TLC', 'type': 'Airport', 'href': '#/included/airports/TLC'}]}, {'type': 'location', 'subType': 'city', 'name': 'San Francisco', 'address': {'countryCode': 'MX', 'stateCode': 'MX-ZZZ'}, 'geoCode': {'latitude': 27.645, 'longitude': -113.41917}, 'relationships': [{'id': 'LTO', 'type': 'Airport', 'href': '#/included/airports/LTO'}]}, {'type': 'location', 'subType': 'city', 'name': 'San Francisco (Mata Clara)', 'address': {'countryCode': 'MX', 'stateCode': 'MX-ZZZ'}, 'geoCode': {'latitude': 18.81444, 'longitude': -96.74611}, 'relationships': [{'id': 'VER', 'type': 'Airport', 'href': '#/included/airports/VER'}]}, {'type': 'location', 'subType': 'city', 'name': 'San Francisco Cozoaltepec', 'address': {'countryCode': 'MX', 'stateCode': 'MX-ZZZ'}, 'geoCode': {'latitude': 15.81476, 'longitude': -96.72396}, 'relationships': [{'id': 'PXM', 'type': 'Airport', 'href': '#/included/airports/PXM'}]}, {'type': 'location', 'subType': 'city', 'name': 'San Francisco Tlaltica', 'address': {'countryCode': 'MX', 'stateCode': 'MX-ZZZ'}, 'geoCode': {'latitude': 19.65833, 'longitude': -98.775}, 'relationships': [{'id': 'MEX', 'type': 'Airport', 'href': '#/included/airports/MEX'}, {'id': 'TLC', 'type': 'Airport', 'href': '#/included/airports/TLC'}]}, {'type': 'location', 'subType': 'city', 'name': 'San Francisco Zacapexpan', 'address': {'countryCode': 'MX', 'stateCode': 'MX-ZZZ'}, 'geoCode': {'latitude': 19.88028, 'longitude': -97.59611}, 'relationships': [{'id': 'PAZ', 'type': 'Airport', 'href': '#/included/airports/PAZ'}]}, {'type': 'location', 'subType': 'city', 'name': 'San Francisco Periban', 'address': {'countryCode': 'MX', 'stateCode': 'MX-ZZZ'}, 'geoCode': {'latitude': 19.55601, 'longitude': -102.39844}, 'relationships': [{'id': 'MLM', 'type': 'Airport', 'href': '#/included/airports/MLM'}]}, {'type': 'location', 'subType': 'city', 'name': 'San Francisco (Banos de Agua Caliente)', 'address': {'countryCode': 'MX', 'stateCode': 'MX-ZZZ'}, 'geoCode': {'latitude': 21.07389, 'longitude': -101.47278}, 'relationships': [{'id': 'BJX', 'type': 'Airport', 'href': '#/included/airports/BJX'}]}, {'type': 'location', 'subType': 'city', 'name': 'San Francisco Tlacuilohcan', 'address': {'countryCode': 'MX', 'stateCode': 'MX-ZZZ'}, 'geoCode': {'latitude': 19.40167, 'longitude': -98.19278}, 'relationships': [{'id': 'PBC', 'type': 'Airport', 'href': '#/included/airports/PBC'}]}, {'type': 'location', 'subType': 'city', 'name': 'San Francisco Cheje', 'address': {'countryCode': 'MX', 'stateCode': 'MX-ZZZ'}, 'geoCode': {'latitude': 19.68044, 'longitude': -99.74877}, 'relationships': [{'id': 'MEX', 'type': 'Airport', 'href': '#/included/airports/MEX'}, {'id': 'TLC', 'type': 'Airport', 'href': '#/included/airports/TLC'}]}, {'type': 'location', 'subType': 'city', 'name': 'San Francisco', 'address': {'countryCode': 'MX', 'stateCode': 'MX-ZZZ'}, 'geoCode': {'latitude': 21.01819, 'longitude': -98.48699}, 'relationships': [{'id': 'PAZ', 'type': 'Airport', 'href': '#/included/airports/PAZ'}]}, {'type': 'location', 'subType': 'city', 'name': 'San Francisco de la Palma', 'address': {'countryCode': 'MX', 'stateCode': 'MX-ZZZ'}, 'geoCode': {'latitude': 20.66028, 'longitude': -100.51528}, 'relationships': [{'id': 'QRO', 'type': 'Airport', 'href': '#/included/airports/QRO'}]}, {'type': 'location', 'subType': 'city', 'name': 'San Francisco', 'address': {'countryCode': 'MX', 'stateCode': 'MX-ZZZ'}, 'geoCode': {'latitude': 20.90196, 'longitude': -105.41279}, 'relationships': [{'id': 'PVR', 'type': 'Airport', 'href': '#/included/airports/PVR'}]}, {'type': 'location', 'subType': 'city', 'name': 'Colonia San Francisco de Asis', 'address': {'countryCode': 'MX', 'stateCode': 'MX-ZZZ'}, 'geoCode': {'latitude': 19.57861, 'longitude': -99.75444}, 'relationships': [{'id': 'MEX', 'type': 'Airport', 'href': '#/included/airports/MEX'}, {'id': 'TLC', 'type': 'Airport', 'href': '#/included/airports/TLC'}]}, {'type': 'location', 'subType': 'city', 'name': 'San Francisco del Mezquital', 'address': {'countryCode': 'MX', 'stateCode': 'MX-ZZZ'}, 'geoCode': {'latitude': 23.47444, 'longitude': -104.3949}, 'relationships': [{'id': 'ZCL', 'type': 'Airport', 'href': '#/included/airports/ZCL'}]}, {'type': 'location', 'subType': 'city', 'name': 'San Francisco', 'address': {'countryCode': 'MX', 'stateCode': 'MX-ZZZ'}, 'geoCode': {'latitude': 21.2888, 'longitude': -97.95316}, 'relationships': [{'id': 'PAZ', 'type': 'Airport', 'href': '#/included/airports/PAZ'}]}, {'type': 'location', 'subType': 'city', 'name': 'San Francisco Cuayalab', 'address': {'countryCode': 'MX', 'stateCode': 'MX-ZZZ'}, 'geoCode': {'latitude': 21.7326, 'longitude': -98.71754}, 'relationships': [{'id': 'TAM', 'type': 'Airport', 'href': '#/included/airports/TAM'}]}, {'type': 'location', 'subType': 'city', 'name': 'San Francisco', 'address': {'countryCode': 'MX', 'stateCode': 'MX-ZZZ'}, 'geoCode': {'latitude': 20.4741, 'longitude': -99.73273}, 'relationships': [{'id': 'QRO', 'type': 'Airport', 'href': '#/included/airports/QRO'}]}, {'type': 'location', 'subType': 'city', 'name': 'San Francisco', 'address': {'countryCode': 'MX', 'stateCode': 'MX-ZZZ'}, 'geoCode': {'latitude': 17.00583, 'longitude': -99.28306}, 'relationships': [{'id': 'ACA', 'type': 'Airport', 'href': '#/included/airports/ACA'}]}, {'type': 'location', 'subType': 'city', 'name': 'San Francisco Javier', 'address': {'countryCode': 'MX', 'stateCode': 'MX-ZZZ'}, 'geoCode': {'latitude': 23.72572, 'longitude': -104.03371}, 'relationships': [{'id': 'ZCL', 'type': 'Airport', 'href': '#/included/airports/ZCL'}]}, {'type': 'location', 'subType': 'city', 'name': 'San Francisco de Horizonte (Horizonte)', 'address': {'countryCode': 'MX', 'stateCode': 'MX-ZZZ'}, 'geoCode': {'latitude': 25.9369, 'longitude': -103.41688}, 'relationships': [{'id': 'TRC', 'type': 'Airport', 'href': '#/included/airports/TRC'}]}, {'type': 'location', 'subType': 'city', 'name': 'San Francisco Grande', 'address': {'countryCode': 'MX', 'stateCode': 'MX-ZZZ'}, 'geoCode': {'latitude': 20.70071, 'longitude': -88.47345}, 'relationships': [{'id': 'MID', 'type': 'Airport', 'href': '#/included/airports/MID'}]}, {'type': 'location', 'subType': 'city', 'name': 'San Francisco', 'address': {'countryCode': 'MX', 'stateCode': 'MX-ZZZ'}, 'geoCode': {'latitude': 22.07479, 'longitude': -99.86001}, 'relationships': [{'id': 'SLP', 'type': 'Airport', 'href': '#/included/airports/SLP'}]}, {'type': 'location', 'subType': 'city', 'name': 'San Francisco Atotonilco', 'address': {'countryCode': 'MX', 'stateCode': 'MX-ZZZ'}, 'geoCode': {'latitude': 20.19472, 'longitude': -98.15167}, 'relationships': [{'id': 'PAZ', 'type': 'Airport', 'href': '#/included/airports/PAZ'}]}, {'type': 'location', 'subType': 'city', 'name': 'San Francisco Coatlan', 'address': {'countryCode': 'MX', 'stateCode': 'MX-ZZZ'}, 'geoCode': {'latitude': 16.18175, 'longitude': -96.76099}, 'relationships': [{'id': 'PXM', 'type': 'Airport', 'href': '#/included/airports/PXM'}]}, {'type': 'location', 'subType': 'city', 'name': 'San Francisco de Guzman', 'address': {'countryCode': 'MX', 'stateCode': 'MX-ZZZ'}, 'geoCode': {'latitude': 19.62028, 'longitude': -99.77472}, 'relationships': [{'id': 'MEX', 'type': 'Airport', 'href': '#/included/airports/MEX'}, {'id': 'TLC', 'type': 'Airport', 'href': '#/included/airports/TLC'}]}, {'type': 'location', 'subType': 'city', 'name': 'Cerro de San Francisco', 'address': {'countryCode': 'MX', 'stateCode': 'MX-ZZZ'}, 'geoCode': {'latitude': 19.37038, 'longitude': -99.35162}, 'relationships': [{'id': 'MEX', 'type': 'Airport', 'href': '#/included/airports/MEX'}, {'id': 'TLC', 'type': 'Airport', 'href': '#/included/airports/TLC'}]}, {'type': 'location', 'subType': 'city', 'name': 'San Francisco Tlaloc', 'address': {'countryCode': 'MX', 'stateCode': 'MX-ZZZ'}, 'geoCode': {'latitude': 19.36972, 'longitude': -98.47722}, 'relationships': [{'id': 'PBC', 'type': 'Airport', 'href': '#/included/airports/PBC'}]}, {'type': 'location', 'subType': 'city', 'name': 'San Francisco Oxtotilpan', 'address': {'countryCode': 'MX', 'stateCode': 'MX-ZZZ'}, 'geoCode': {'latitude': 19.16926, 'longitude': -99.90273}, 'relationships': [{'id': 'MEX', 'type': 'Airport', 'href': '#/included/airports/MEX'}, {'id': 'TLC', 'type': 'Airport', 'href': '#/included/airports/TLC'}]}, {'type': 'location', 'subType': 'city', 'name': 'San Francisco Ozomatlan', 'address': {'countryCode': 'MX', 'stateCode': 'MX-ZZZ'}, 'geoCode': {'latitude': 17.92537, 'longitude': -99.33902}, 'relationships': [{'id': 'ACA', 'type': 'Airport', 'href': '#/included/airports/ACA'}]}, {'type': 'location', 'subType': 'city', 'name': 'San Francisco Oxtutla', 'address': {'countryCode': 'MX', 'stateCode': 'MX-ZZZ'}, 'geoCode': {'latitude': 17.96172, 'longitude': -98.98495}, 'relationships': [{'id': 'PBC', 'type': 'Airport', 'href': '#/included/airports/PBC'}]}, {'type': 'location', 'subType': 'city', 'name': 'San Francisco de Rivas', 'address': {'countryCode': 'MX', 'stateCode': 'MX-ZZZ'}, 'geoCode': {'latitude': 20.34053, 'longitude': -102.57208}, 'relationships': [{'id': 'GDL', 'type': 'Airport', 'href': '#/included/airports/GDL'}]}, {'type': 'location', 'subType': 'city', 'name': 'San Francisco', 'address': {'countryCode': 'MX', 'stateCode': 'MX-ZZZ'}, 'geoCode': {'latitude': 21.99897, 'longitude': -101.15915}, 'relationships': [{'id': 'SLP', 'type': 'Airport', 'href': '#/included/airports/SLP'}]}, {'type': 'location', 'subType': 'city', 'name': 'Ejido Palma (Ejido San Francisco)', 'address': {'countryCode': 'MX', 'stateCode': 'MX-ZZZ'}, 'geoCode': {'latitude': 19.56889, 'longitude': -99.40889}, 'relationships': [{'id': 'MEX', 'type': 'Airport', 'href': '#/included/airports/MEX'}, {'id': 'TLC', 'type': 'Airport', 'href': '#/included/airports/TLC'}]}, {'type': 'location', 'subType': 'city', 'name': 'San Francisco Jacona', 'address': {'countryCode': 'MX', 'stateCode': 'MX-ZZZ'}, 'geoCode': {'latitude': 17.26278, 'longitude': -93.0325}, 'relationships': [{'id': 'TGZ', 'type': 'Airport', 'href': '#/included/airports/TGZ'}]}, {'type': 'location', 'subType': 'city', 'name': 'Colonia San Francisco (San Francisco)', 'address': {'countryCode': 'MX', 'stateCode': 'MX-ZZZ'}, 'geoCode': {'latitude': 22.30361, 'longitude': -101.82056}, 'relationships': [{'id': 'AGU', 'type': 'Airport', 'href': '#/included/airports/AGU'}]}, {'type': 'location', 'subType': 'city', 'name': 'Loma de San Francisco', 'address': {'countryCode': 'MX', 'stateCode': 'MX-ZZZ'}, 'geoCode': {'latitude': 19.28333, 'longitude': -99.80917}, 'relationships': [{'id': 'MEX', 'type': 'Airport', 'href': '#/included/airports/MEX'}, {'id': 'TLC', 'type': 'Airport', 'href': '#/included/airports/TLC'}]}, {'type': 'location', 'subType': 'city', 'name': 'Occidente (San Francisco)', 'address': {'countryCode': 'MX', 'stateCode': 'MX-ZZZ'}, 'geoCode': {'latitude': 18.3313, 'longitude': -93.25238}, 'relationships': [{'id': 'VSA', 'type': 'Airport', 'href': '#/included/airports/VSA'}]}, {'type': 'location', 'subType': 'city', 'name': 'Praderas de San Francisco', 'address': {'countryCode': 'MX', 'stateCode': 'MX-ZZZ'}, 'geoCode': {'latitude': 25.81833, 'longitude': -100.4025}, 'relationships': [{'id': 'MTY', 'type': 'Airport', 'href': '#/included/airports/MTY'}]}, {'type': 'location', 'subType': 'city', 'name': 'San Francisco Javier', 'address': {'countryCode': 'MX', 'stateCode': 'MX-ZZZ'}, 'geoCode': {'latitude': 17.02861, 'longitude': -96.7775}, 'relationships': [{'id': 'OAX', 'type': 'Airport', 'href': '#/included/airports/OAX'}]}, {'type': 'location', 'subType': 'city', 'name': 'San Francisco de Borja', 'address': {'countryCode': 'MX', 'stateCode': 'MX-ZZZ'}, 'geoCode': {'latitude': 27.90171, 'longitude': -106.68562}, 'relationships': [{'id': 'CUU', 'type': 'Airport', 'href': '#/included/airports/CUU'}]}, {'type': 'location', 'subType': 'city', 'name': 'San Francisco de Arriba', 'address': {'countryCode': 'MX', 'stateCode': 'MX-ZZZ'}, 'geoCode': {'latitude': 25.75028, 'longitude': -103.15631}, 'relationships': [{'id': 'TRC', 'type': 'Airport', 'href': '#/included/airports/TRC'}]}, {'type': 'location', 'subType': 'city', 'name': 'Estacion de San Francisco', 'address': {'countryCode': 'MX', 'stateCode': 'MX-ZZZ'}, 'geoCode': {'latitude': 21.03722, 'longitude': -101.82472}, 'relationships': [{'id': 'BJX', 'type': 'Airport', 'href': '#/included/airports/BJX'}]}, {'type': 'location', 'subType': 'city', 'name': 'La Albarrada (San Francisco la Albarrada)', 'address': {'countryCode': 'MX', 'stateCode': 'MX-ZZZ'}, 'geoCode': {'latitude': 19.0675, 'longitude': -100.07528}, 'relationships': [{'id': 'MEX', 'type': 'Airport', 'href': '#/included/airports/MEX'}, {'id': 'TLC', 'type': 'Airport', 'href': '#/included/airports/TLC'}]}, {'type': 'location', 'subType': 'city', 'name': 'San Francisco de Tacuichamona', 'address': {'countryCode': 'MX', 'stateCode': 'MX-ZZZ'}, 'geoCode': {'latitude': 24.3616, 'longitude': -107.0763}, 'relationships': [{'id': 'CUL', 'type': 'Airport', 'href': '#/included/airports/CUL'}]}, {'type': 'location', 'subType': 'city', 'name': 'San Francisco Solis', 'address': {'countryCode': 'MX', 'stateCode': 'MX-ZZZ'}, 'geoCode': {'latitude': 19.92969, 'longitude': -100.04506}, 'relationships': [{'id': 'QRO', 'type': 'Airport', 'href': '#/included/airports/QRO'}]}, {'type': 'location', 'subType': 'city', 'name': 'San Francisco Logueche', 'address': {'countryCode': 'MX', 'stateCode': 'MX-ZZZ'}, 'geoCode': {'latitude': 16.3537, 'longitude': -96.37753}, 'relationships': [{'id': 'HUX', 'type': 'Airport', 'href': '#/included/airports/HUX'}]}, {'type': 'location', 'subType': 'city', 'name': 'San Francisco Sola', 'address': {'countryCode': 'MX', 'stateCode': 'MX-ZZZ'}, 'geoCode': {'latitude': 16.51584, 'longitude': -96.97488}, 'relationships': [{'id': 'OAX', 'type': 'Airport', 'href': '#/included/airports/OAX'}]}, {'type': 'location', 'subType': 'city', 'name': 'San Francisco Nacaxtle', 'address': {'countryCode': 'MX', 'stateCode': 'MX-ZZZ'}, 'geoCode': {'latitude': 19.11083, 'longitude': -96.59583}, 'relationships': [{'id': 'VER', 'type': 'Airport', 'href': '#/included/airports/VER'}]}, {'type': 'location', 'subType': 'city', 'name': 'San Francisco', 'address': {'countryCode': 'MX', 'stateCode': 'MX-ZZZ'}, 'geoCode': {'latitude': 21.63387, 'longitude': -101.05884}, 'relationships': [{'id': 'SLP', 'type': 'Airport', 'href': '#/included/airports/SLP'}]}, {'type': 'location', 'subType': 'city', 'name': 'San Francisco', 'address': {'countryCode': 'MX', 'stateCode': 'MX-ZZZ'}, 'geoCode': {'latitude': 21.27958, 'longitude': -98.89056}, 'relationships': [{'id': 'TAM', 'type': 'Airport', 'href': '#/included/airports/TAM'}]}, {'type': 'location', 'subType': 'city', 'name': 'San Francisco Koben', 'address': {'countryCode': 'MX', 'stateCode': 'MX-ZZZ'}, 'geoCode': {'latitude': 19.91516, 'longitude': -90.41709}, 'relationships': [{'id': 'CPE', 'type': 'Airport', 'href': '#/included/airports/CPE'}]}, {'type': 'location', 'subType': 'city', 'name': 'San Francisco Loxicha', 'address': {'countryCode': 'MX', 'stateCode': 'MX-ZZZ'}, 'geoCode': {'latitude': 15.90658, 'longitude': -96.61295}, 'relationships': [{'id': 'HUX', 'type': 'Airport', 'href': '#/included/airports/HUX'}]}, {'type': 'location', 'subType': 'city', 'name': 'San Francisco Cuexcontzi', 'address': {'countryCode': 'MX', 'stateCode': 'MX-ZZZ'}, 'geoCode': {'latitude': 19.32023, 'longitude': -97.71092}, 'relationships': [{'id': 'PBC', 'type': 'Airport', 'href': '#/included/airports/PBC'}]}, {'type': 'location', 'subType': 'city', 'name': 'Tlahuelompa (San Francisco Tlahuelompa)', 'address': {'countryCode': 'MX', 'stateCode': 'MX-ZZZ'}, 'geoCode': {'latitude': 20.65082, 'longitude': -98.57522}, 'relationships': [{'id': 'PAZ', 'type': 'Airport', 'href': '#/included/airports/PAZ'}]}, {'type': 'location', 'subType': 'city', 'name': 'Rinconadas de San Francisco', 'address': {'countryCode': 'MX', 'stateCode': 'MX-ZZZ'}, 'geoCode': {'latitude': 20.06611, 'longitude': -98.76806}, 'relationships': [{'id': 'MEX', 'type': 'Airport', 'href': '#/included/airports/MEX'}, {'id': 'TLC', 'type': 'Airport', 'href': '#/included/airports/TLC'}]}, {'type': 'location', 'subType': 'city', 'name': 'Colonia San Francisco', 'address': {'countryCode': 'MX', 'stateCode': 'MX-ZZZ'}, 'geoCode': {'latitude': 18.89611, 'longitude': -98.90361}, 'relationships': [{'id': 'MEX', 'type': 'Airport', 'href': '#/included/airports/MEX'}, {'id': 'TLC', 'type': 'Airport', 'href': '#/included/airports/TLC'}]}, {'type': 'location', 'subType': 'city', 'name': 'San Francisco Xochiteopan', 'address': {'countryCode': 'MX', 'stateCode': 'MX-ZZZ'}, 'geoCode': {'latitude': 18.80451, 'longitude': -98.62433}, 'relationships': [{'id': 'PBC', 'type': 'Airport', 'href': '#/included/airports/PBC'}]}, {'type': 'location', 'subType': 'city', 'name': 'San Francisco Mitepec', 'address': {'countryCode': 'MX', 'stateCode': 'MX-ZZZ'}, 'geoCode': {'latitude': 19.43924, 'longitude': -98.44823}, 'relationships': [{'id': 'PBC', 'type': 'Airport', 'href': '#/included/airports/PBC'}]}, {'type': 'location', 'subType': 'city', 'name': 'San Francisco Yovego', 'address': {'countryCode': 'MX', 'stateCode': 'MX-ZZZ'}, 'geoCode': {'latitude': 17.55139, 'longitude': -96.22389}, 'relationships': [{'id': 'OAX', 'type': 'Airport', 'href': '#/included/airports/OAX'}]}, {'type': 'location', 'subType': 'city', 'name': 'San Francisco', 'address': {'countryCode': 'MX', 'stateCode': 'MX-ZZZ'}, 'geoCode': {'latitude': 19.71806, 'longitude': -103.1937}, 'relationships': [{'id': 'GDL', 'type': 'Airport', 'href': '#/included/airports/GDL'}]}, {'type': 'location', 'subType': 'city', 'name': 'San Francisco Ozolotepec', 'address': {'countryCode': 'MX', 'stateCode': 'MX-ZZZ'}, 'geoCode': {'latitude': 16.10079, 'longitude': -96.22181}, 'relationships': [{'id': 'HUX', 'type': 'Airport', 'href': '#/included/airports/HUX'}]}, {'type': 'location', 'subType': 'city', 'name': 'San Francisco', 'address': {'countryCode': 'MX', 'stateCode': 'MX-ZZZ'}, 'geoCode': {'latitude': 18.90788, 'longitude': -99.9292}, 'relationships': [{'id': 'MEX', 'type': 'Airport', 'href': '#/included/airports/MEX'}, {'id': 'TLC', 'type': 'Airport', 'href': '#/included/airports/TLC'}]}, {'type': 'location', 'subType': 'city', 'name': 'San Francisco del Rio', 'address': {'countryCode': 'MX', 'stateCode': 'MX-ZZZ'}, 'geoCode': {'latitude': 19.69194, 'longitude': -99.89389}, 'relationships': [{'id': 'MEX', 'type': 'Airport', 'href': '#/included/airports/MEX'}, {'id': 'TLC', 'type': 'Airport', 'href': '#/included/airports/TLC'}]}, {'type': 'location', 'subType': 'city', 'name': 'San Francisco Puerta Grande', 'address': {'countryCode': 'MX', 'stateCode': 'MX-ZZZ'}, 'geoCode': {'latitude': 20.87586, 'longitude': -101.48377}, 'relationships': [{'id': 'BJX', 'type': 'Airport', 'href': '#/included/airports/BJX'}]}, {'type': 'location', 'subType': 'city', 'name': 'San Francisco de Asis', 'address': {'countryCode': 'MX', 'stateCode': 'MX-ZZZ'}, 'geoCode': {'latitude': 18.62677, 'longitude': -100.28016}, 'relationships': [{'id': 'MEX', 'type': 'Airport', 'href': '#/included/airports/MEX'}, {'id': 'TLC', 'type': 'Airport', 'href': '#/included/airports/TLC'}]}, {'type': 'location', 'subType': 'city', 'name': 'San Francisco Totoltepec', 'address': {'countryCode': 'MX', 'stateCode': 'MX-ZZZ'}, 'geoCode': {'latitude': 19.32861, 'longitude': -99.55528}, 'relationships': [{'id': 'MEX', 'type': 'Airport', 'href': '#/included/airports/MEX'}, {'id': 'TLC', 'type': 'Airport', 'href': '#/included/airports/TLC'}]}, {'type': 'location', 'subType': 'city', 'name': 'San Francisco del Maguey', 'address': {'countryCode': 'MX', 'stateCode': 'MX-ZZZ'}, 'geoCode': {'latitude': 16.51015, 'longitude': -98.30426}, 'relationships': [{'id': 'PXM', 'type': 'Airport', 'href': '#/included/airports/PXM'}]}, {'type': 'location', 'subType': 'city', 'name': 'San Francisco del Progreso', 'address': {'countryCode': 'MX', 'stateCode': 'MX-ZZZ'}, 'geoCode': {'latitude': 19.72972, 'longitude': -97.60833}, 'relationships': [{'id': 'PAZ', 'type': 'Airport', 'href': '#/included/airports/PAZ'}]}, {'type': 'location', 'subType': 'city', 'name': 'San Francisco Jayacaxtepec', 'address': {'countryCode': 'MX', 'stateCode': 'MX-ZZZ'}, 'geoCode': {'latitude': 17.22167, 'longitude': -95.97472}, 'relationships': [{'id': 'OAX', 'type': 'Airport', 'href': '#/included/airports/OAX'}]}, {'type': 'location', 'subType': 'city', 'name': 'San Francisco Tenexyecac', 'address': {'countryCode': 'MX', 'stateCode': 'MX-ZZZ'}, 'geoCode': {'latitude': 19.27806, 'longitude': -98.31528}, 'relationships': [{'id': 'PBC', 'type': 'Airport', 'href': '#/included/airports/PBC'}]}, {'type': 'location', 'subType': 'city', 'name': 'San Francisco Tepango', 'address': {'countryCode': 'MX', 'stateCode': 'MX-ZZZ'}, 'geoCode': {'latitude': 18.83694, 'longitude': -98.70222}, 'relationships': [{'id': 'PBC', 'type': 'Airport', 'href': '#/included/airports/PBC'}]}, {'type': 'location', 'subType': 'city', 'name': 'San Francisco Shaxni Ejido', 'address': {'countryCode': 'MX', 'stateCode': 'MX-ZZZ'}, 'geoCode': {'latitude': 20.07155, 'longitude': -99.99557}, 'relationships': [{'id': 'QRO', 'type': 'Airport', 'href': '#/included/airports/QRO'}]}, {'type': 'location', 'subType': 'city', 'name': 'San Francisco Yosocuta', 'address': {'countryCode': 'MX', 'stateCode': 'MX-ZZZ'}, 'geoCode': {'latitude': 17.74624, 'longitude': -97.81843}, 'relationships': [{'id': 'OAX', 'type': 'Airport', 'href': '#/included/airports/OAX'}]}, {'type': 'location', 'subType': 'city', 'name': 'San Francisco Solo', 'address': {'countryCode': 'MX', 'stateCode': 'MX-ZZZ'}, 'geoCode': {'latitude': 19.71875, 'longitude': -100.09219}, 'relationships': [{'id': 'QRO', 'type': 'Airport', 'href': '#/included/airports/QRO'}]}, {'type': 'location', 'subType': 'city', 'name': 'San Francisco', 'address': {'countryCode': 'MX', 'stateCode': 'MX-ZZZ'}, 'geoCode': {'latitude': 20.82084, 'longitude': -87.50361}, 'relationships': [{'id': 'CZM', 'type': 'Airport', 'href': '#/included/airports/CZM'}]}, {'type': 'location', 'subType': 'city', 'name': 'San Francisco Chindua', 'address': {'countryCode': 'MX', 'stateCode': 'MX-ZZZ'}, 'geoCode': {'latitude': 17.42809, 'longitude': -97.31266}, 'relationships': [{'id': 'OAX', 'type': 'Airport', 'href': '#/included/airports/OAX'}]}, {'type': 'location', 'subType': 'city', 'name': 'San Francisco (Oyozontle)', 'address': {'countryCode': 'MX', 'stateCode': 'MX-ZZZ'}, 'geoCode': {'latitude': 18.32944, 'longitude': -95.84583}, 'relationships': [{'id': 'VER', 'type': 'Airport', 'href': '#/included/airports/VER'}]}, {'type': 'location', 'subType': 'city', 'name': 'San Francisco de las Tablas', 'address': {'countryCode': 'MX', 'stateCode': 'MX-ZZZ'}, 'geoCode': {'latitude': 19.76591, 'longitude': -99.52921}, 'relationships': [{'id': 'MEX', 'type': 'Airport', 'href': '#/included/airports/MEX'}, {'id': 'TLC', 'type': 'Airport', 'href': '#/included/airports/TLC'}]}, {'type': 'location', 'subType': 'city', 'name': 'San Francisco', 'address': {'countryCode': 'MX', 'stateCode': 'MX-ZZZ'}, 'geoCode': {'latitude': 20.58139, 'longitude': -100.13444}, 'relationships': [{'id': 'QRO', 'type': 'Airport', 'href': '#/included/airports/QRO'}]}, {'type': 'location', 'subType': 'city', 'name': 'San Francisco Tecajique', 'address': {'countryCode': 'MX', 'stateCode': 'MX-ZZZ'}, 'geoCode': {'latitude': 20.16611, 'longitude': -98.94713}, 'relationships': [{'id': 'MEX', 'type': 'Airport', 'href': '#/included/airports/MEX'}, {'id': 'TLC', 'type': 'Airport', 'href': '#/included/airports/TLC'}]}, {'type': 'location', 'subType': 'city', 'name': 'El Mirador (San Francisco)', 'address': {'countryCode': 'MX', 'stateCode': 'MX-ZZZ'}, 'geoCode': {'latitude': 19.53667, 'longitude': -97.66194}, 'relationships': [{'id': 'PBC', 'type': 'Airport', 'href': '#/included/airports/PBC'}]}, {'type': 'location', 'subType': 'city', 'name': 'Estancia de San Francisco', 'address': {'countryCode': 'MX', 'stateCode': 'MX-ZZZ'}, 'geoCode': {'latitude': 21.66638, 'longitude': -101.06478}, 'relationships': [{'id': 'SLP', 'type': 'Airport', 'href': '#/included/airports/SLP'}]}, {'type': 'location', 'subType': 'city', 'name': 'San Francisco Tlapancingo', 'address': {'countryCode': 'MX', 'stateCode': 'MX-ZZZ'}, 'geoCode': {'latitude': 17.48333, 'longitude': -98.26806}, 'relationships': [{'id': 'OAX', 'type': 'Airport', 'href': '#/included/airports/OAX'}]}, {'type': 'location', 'subType': 'city', 'name': 'San Francisco Epunguio', 'address': {'countryCode': 'MX', 'stateCode': 'MX-ZZZ'}, 'geoCode': {'latitude': 19.69992, 'longitude': -100.43859}, 'relationships': [{'id': 'MLM', 'type': 'Airport', 'href': '#/included/airports/MLM'}]}, {'type': 'location', 'subType': 'city', 'name': 'San Francisco', 'address': {'countryCode': 'MX', 'stateCode': 'MX-ZZZ'}, 'geoCode': {'latitude': 20.35342, 'longitude': -99.95854}, 'relationships': [{'id': 'QRO', 'type': 'Airport', 'href': '#/included/airports/QRO'}]}, {'type': 'location', 'subType': 'city', 'name': 'San Francisco Tutepetongo', 'address': {'countryCode': 'MX', 'stateCode': 'MX-ZZZ'}, 'geoCode': {'latitude': 17.71611, 'longitude': -96.88083}, 'relationships': [{'id': 'OAX', 'type': 'Airport', 'href': '#/included/airports/OAX'}]}, {'type': 'location', 'subType': 'city', 'name': 'Alvaro Obregon (San Francisco)', 'address': {'countryCode': 'MX', 'stateCode': 'MX-ZZZ'}, 'geoCode': {'latitude': 19.44417, 'longitude': -97.67861}, 'relationships': [{'id': 'PBC', 'type': 'Airport', 'href': '#/included/airports/PBC'}]}, {'type': 'location', 'subType': 'city', 'name': 'San Francisco de Asis', 'address': {'countryCode': 'MX', 'stateCode': 'MX-ZZZ'}, 'geoCode': {'latitude': 16.00139, 'longitude': -92.01722}, 'relationships': [{'id': 'TAP', 'type': 'Airport', 'href': '#/included/airports/TAP'}]}, {'type': 'location', 'subType': 'city', 'name': 'San Francisco', 'address': {'countryCode': 'MX', 'stateCode': 'MX-ZZZ'}, 'geoCode': {'latitude': 23.00083, 'longitude': -101.93125}, 'relationships': [{'id': 'ZCL', 'type': 'Airport', 'href': '#/included/airports/ZCL'}]}, {'type': 'location', 'subType': 'city', 'name': 'San Francisco Buenavista', 'address': {'countryCode': 'MX', 'stateCode': 'MX-ZZZ'}, 'geoCode': {'latitude': 19.02639, 'longitude': -97.83556}, 'relationships': [{'id': 'PBC', 'type': 'Airport', 'href': '#/included/airports/PBC'}]}, {'type': 'location', 'subType': 'city', 'name': 'San Francisco Manzanilla', 'address': {'countryCode': 'MX', 'stateCode': 'MX-ZZZ'}, 'geoCode': {'latitude': 21.25242, 'longitude': -89.02302}, 'relationships': [{'id': 'MID', 'type': 'Airport', 'href': '#/included/airports/MID'}]}, {'type': 'location', 'subType': 'city', 'name': 'San Francisco del Progreso', 'address': {'countryCode': 'MX', 'stateCode': 'MX-ZZZ'}, 'geoCode': {'latitude': 25.59162, 'longitude': -102.17084}, 'relationships': [{'id': 'TRC', 'type': 'Airport', 'href': '#/included/airports/TRC'}]}, {'type': 'location', 'subType': 'city', 'name': 'San Francisco', 'address': {'countryCode': 'MX', 'stateCode': 'MX-ZZZ'}, 'geoCode': {'latitude': 17.97526, 'longitude': -102.12986}, 'relationships': [{'id': 'ZIH', 'type': 'Airport', 'href': '#/included/airports/ZIH'}]}, {'type': 'location', 'subType': 'city', 'name': 'San Francisco Caballua', 'address': {'countryCode': 'MX', 'stateCode': 'MX-ZZZ'}, 'geoCode': {'latitude': 17.49139, 'longitude': -97.71611}, 'relationships': [{'id': 'OAX', 'type': 'Airport', 'href': '#/included/airports/OAX'}]}, {'type': 'location', 'subType': 'city', 'name': 'San Francisco el Rincon', 'address': {'countryCode': 'MX', 'stateCode': 'MX-ZZZ'}, 'geoCode': {'latitude': 16.28139, 'longitude': -92.13333}, 'relationships': [{'id': 'TGZ', 'type': 'Airport', 'href': '#/included/airports/TGZ'}]}, {'type': 'location', 'subType': 'city', 'name': 'San Francisco la Paz', 'address': {'countryCode': 'MX', 'stateCode': 'MX-ZZZ'}, 'geoCode': {'latitude': 17.09667, 'longitude': -94.12889}, 'relationships': [{'id': 'MTT', 'type': 'Airport', 'href': '#/included/airports/MTT'}]}, {'type': 'location', 'subType': 'city', 'name': 'San Francisco Ixpantepec', 'address': {'countryCode': 'MX', 'stateCode': 'MX-ZZZ'}, 'geoCode': {'latitude': 16.28342, 'longitude': -97.24664}, 'relationships': [{'id': 'PXM', 'type': 'Airport', 'href': '#/included/airports/PXM'}]}, {'type': 'location', 'subType': 'city', 'name': 'San Francisco de Lajas', 'address': {'countryCode': 'MX', 'stateCode': 'MX-ZZZ'}, 'geoCode': {'latitude': 23.11886, 'longitude': -105.0999}, 'relationships': [{'id': 'MZT', 'type': 'Airport', 'href': '#/included/airports/MZT'}]}, {'type': 'location', 'subType': 'city', 'name': 'San Francisco', 'address': {'countryCode': 'MX', 'stateCode': 'MX-ZZZ'}, 'geoCode': {'latitude': 16.60282, 'longitude': -91.7353}}, {'type': 'location', 'subType': 'city', 'name': 'San Francisco Ocotal', 'address': {'countryCode': 'MX', 'stateCode': 'MX-ZZZ'}, 'geoCode': {'latitude': 17.21583, 'longitude': -93.15}, 'relationships': [{'id': 'TGZ', 'type': 'Airport', 'href': '#/included/airports/TGZ'}]}, {'type': 'location', 'subType': 'city', 'name': 'El Olvido (San Francisco)', 'address': {'countryCode': 'MX', 'stateCode': 'MX-ZZZ'}, 'geoCode': {'latitude': 19.02889, 'longitude': -97.11417}, 'relationships': [{'id': 'VER', 'type': 'Airport', 'href': '#/included/airports/VER'}]}, {'type': 'location', 'subType': 'city', 'name': 'San Francisco de las Mesillas', 'address': {'countryCode': 'MX', 'stateCode': 'MX-ZZZ'}, 'geoCode': {'latitude': 18.83, 'longitude': -96.77639}, 'relationships': [{'id': 'VER', 'type': 'Airport', 'href': '#/included/airports/VER'}]}, {'type': 'location', 'subType': 'city', 'name': 'Pedregal de San Francisco', 'address': {'countryCode': 'MX', 'stateCode': 'MX-ZZZ'}, 'geoCode': {'latitude': 20.06639, 'longitude': -98.40333}, 'relationships': [{'id': 'MEX', 'type': 'Airport', 'href': '#/included/airports/MEX'}, {'id': 'TLC', 'type': 'Airport', 'href': '#/included/airports/TLC'}]}, {'type': 'location', 'subType': 'city', 'name': 'San Francisco de Horta (El Alacran)', 'address': {'countryCode': 'MX', 'stateCode': 'MX-ZZZ'}, 'geoCode': {'latitude': 20.57611, 'longitude': -101.55389}, 'relationships': [{'id': 'BJX', 'type': 'Airport', 'href': '#/included/airports/BJX'}]}, {'type': 'location', 'subType': 'city', 'name': 'San Francisco de Horta (El Gato)', 'address': {'countryCode': 'MX', 'stateCode': 'MX-ZZZ'}, 'geoCode': {'latitude': 20.62207, 'longitude': -101.52987}, 'relationships': [{'id': 'BJX', 'type': 'Airport', 'href': '#/included/airports/BJX'}]}, {'type': 'location', 'subType': 'city', 'name': 'San Francisco Botes', 'address': {'countryCode': 'MX', 'stateCode': 'MX-ZZZ'}, 'geoCode': {'latitude': 18.1143, 'longitude': -88.71764}, 'relationships': [{'id': 'CTM', 'type': 'Airport', 'href': '#/included/airports/CTM'}]}, {'type': 'location', 'subType': 'city', 'name': 'San Francisco de Asis', 'address': {'countryCode': 'MX', 'stateCode': 'MX-ZZZ'}, 'geoCode': {'latitude': 18.43602, 'longitude': -98.28005}, 'relationships': [{'id': 'PBC', 'type': 'Airport', 'href': '#/included/airports/PBC'}]}, {'type': 'location', 'subType': 'city', 'name': 'San Francisco', 'address': {'countryCode': 'MX', 'stateCode': 'MX-ZZZ'}, 'geoCode': {'latitude': 22.28809, 'longitude': -104.49941}, 'relationships': [{'id': 'PVR', 'type': 'Airport', 'href': '#/included/airports/PVR'}]}, {'type': 'location', 'subType': 'city', 'name': 'San Francisco de la Charca (El Nido)', 'address': {'countryCode': 'MX', 'stateCode': 'MX-ZZZ'}, 'geoCode': {'latitude': 20.67472, 'longitude': -101.39139}, 'relationships': [{'id': 'BJX', 'type': 'Airport', 'href': '#/included/airports/BJX'}]}, {'type': 'location', 'subType': 'city', 'name': 'Barrio San Francisco Ejido de San Pablo Tlalchichilpa', 'address': {'countryCode': 'MX', 'stateCode': 'MX-ZZZ'}, 'geoCode': {'latitude': 19.73565, 'longitude': -100.00982}, 'relationships': [{'id': 'MEX', 'type': 'Airport', 'href': '#/included/airports/MEX'}, {'id': 'TLC', 'type': 'Airport', 'href': '#/included/airports/TLC'}]}, {'type': 'location', 'subType': 'city', 'name': 'San Francisco Terrerillos', 'address': {'countryCode': 'MX', 'stateCode': 'MX-ZZZ'}, 'geoCode': {'latitude': 19.91024, 'longitude': -98.16398}, 'relationships': [{'id': 'PBC', 'type': 'Airport', 'href': '#/included/airports/PBC'}]}, {'type': 'location', 'subType': 'city', 'name': 'San Francisco de Asis', 'address': {'countryCode': 'MX', 'stateCode': 'MX-ZZZ'}, 'geoCode': {'latitude': 19.41333, 'longitude': -100.12333}, 'relationships': [{'id': 'MEX', 'type': 'Airport', 'href': '#/included/airports/MEX'}, {'id': 'TLC', 'type': 'Airport', 'href': '#/included/airports/TLC'}]}, {'type': 'location', 'subType': 'city', 'name': 'San Francisco Guichina', 'address': {'countryCode': 'MX', 'stateCode': 'MX-ZZZ'}, 'geoCode': {'latitude': 16.47292, 'longitude': -96.1059}, 'relationships': [{'id': 'HUX', 'type': 'Airport', 'href': '#/included/airports/HUX'}]}, {'type': 'location', 'subType': 'city', 'name': 'San Francisco Rancho Nuevo', 'address': {'countryCode': 'MX', 'stateCode': 'MX-ZZZ'}, 'geoCode': {'latitude': 18.25972, 'longitude': -98.06083}, 'relationships': [{'id': 'PBC', 'type': 'Airport', 'href': '#/included/airports/PBC'}]}, {'type': 'location', 'subType': 'city', 'name': 'San Francisco Cahuacua', 'address': {'countryCode': 'MX', 'stateCode': 'MX-ZZZ'}, 'geoCode': {'latitude': 16.89619, 'longitude': -97.30578}, 'relationships': [{'id': 'OAX', 'type': 'Airport', 'href': '#/included/airports/OAX'}]}, {'type': 'location', 'subType': 'city', 'name': 'San Francisco Nuxano', 'address': {'countryCode': 'MX', 'stateCode': 'MX-ZZZ'}, 'geoCode': {'latitude': 17.38173, 'longitude': -97.34262}, 'relationships': [{'id': 'OAX', 'type': 'Airport', 'href': '#/included/airports/OAX'}]}, {'type': 'location', 'subType': 'city', 'name': 'San Francisco Cajonos', 'address': {'countryCode': 'MX', 'stateCode': 'MX-ZZZ'}, 'geoCode': {'latitude': 17.17091, 'longitude': -96.25024}, 'relationships': [{'id': 'OAX', 'type': 'Airport', 'href': '#/included/airports/OAX'}]}, {'type': 'location', 'subType': 'city', 'name': 'San Francisco Jaltepetongo', 'address': {'countryCode': 'MX', 'stateCode': 'MX-ZZZ'}, 'geoCode': {'latitude': 17.38579, 'longitude': -97.26481}, 'relationships': [{'id': 'OAX', 'type': 'Airport', 'href': '#/included/airports/OAX'}]}, {'type': 'location', 'subType': 'city', 'name': 'San Francisco Huehuetlan', 'address': {'countryCode': 'MX', 'stateCode': 'MX-ZZZ'}, 'geoCode': {'latitude': 18.19725, 'longitude': -96.94805}, 'relationships': [{'id': 'OAX', 'type': 'Airport', 'href': '#/included/airports/OAX'}]}, {'type': 'location', 'subType': 'city', 'name': 'Valle San Francisco', 'address': {'countryCode': 'NI', 'stateCode': 'NI-ZZZ'}, 'geoCode': {'latitude': 12.51667, 'longitude': -86.28333}, 'relationships': [{'id': 'MGA', 'type': 'Airport', 'href': '#/included/airports/MGA'}]}, {'type': 'location', 'subType': 'city', 'name': 'San Francisco', 'address': {'countryCode': 'NI', 'stateCode': 'NI-ZZZ'}, 'geoCode': {'latitude': 12.82613, 'longitude': -87.44557}, 'relationships': [{'id': 'MGA', 'type': 'Airport', 'href': '#/included/airports/MGA'}]}, {'type': 'location', 'subType': 'city', 'name': 'San Francisco Libre', 'address': {'countryCode': 'NI', 'stateCode': 'NI-ZZZ'}, 'geoCode': {'latitude': 12.50497, 'longitude': -86.29942}, 'relationships': [{'id': 'MGA', 'type': 'Airport', 'href': '#/included/airports/MGA'}]}, {'type': 'location', 'subType': 'city', 'name': 'San Francisco del Norte', 'address': {'countryCode': 'NI', 'stateCode': 'NI-ZZZ'}, 'geoCode': {'latitude': 13.19921, 'longitude': -86.77101}, 'relationships': [{'id': 'MGA', 'type': 'Airport', 'href': '#/included/airports/MGA'}]}, {'type': 'location', 'subType': 'city', 'name': 'Altos de San Francisco', 'address': {'countryCode': 'PA', 'stateCode': 'PA-ZZZ'}, 'geoCode': {'latitude': 8.86167, 'longitude': -79.79}, 'relationships': [{'id': 'PAC', 'type': 'Airport', 'href': '#/included/airports/PAC'}, {'id': 'PTY', 'type': 'Airport', 'href': '#/included/airports/PTY'}]}, {'type': 'location', 'subType': 'city', 'name': 'San Francisco', 'address': {'countryCode': 'PA', 'stateCode': 'PA-ZZZ'}, 'geoCode': {'latitude': 8.06667, 'longitude': -81.36667}, 'relationships': [{'id': 'DAV', 'type': 'Airport', 'href': '#/included/airports/DAV'}]}, {'type': 'location', 'subType': 'city', 'name': 'San Francisco', 'address': {'countryCode': 'PA', 'stateCode': 'PA-ZZZ'}, 'geoCode': {'latitude': 8.24652, 'longitude': -80.97472}, 'relationships': [{'id': 'RIH', 'type': 'Airport', 'href': '#/included/airports/RIH'}]}, {'type': 'location', 'subType': 'city', 'name': 'San Francisco', 'address': {'countryCode': 'PA', 'stateCode': 'PA-ZZZ'}, 'geoCode': {'latitude': 8.63404, 'longitude': -82.72818}, 'relationships': [{'id': 'DAV', 'type': 'Airport', 'href': '#/included/airports/DAV'}]}, {'type': 'location', 'subType': 'city', 'name': 'San Francisco De Borja', 'address': {'countryCode': 'PE', 'stateCode': 'PE-ZZZ'}, 'geoCode': {'latitude': -12.08911, 'longitude': -76.99876}, 'relationships': [{'id': 'LIM', 'type': 'Airport', 'href': '#/included/airports/LIM'}]}, {'type': 'location', 'subType': 'city', 'name': 'San Francisco', 'address': {'countryCode': 'PE', 'stateCode': 'PE-ZZZ'}, 'geoCode': {'latitude': -13.48227, 'longitude': -76.08222}, 'relationships': [{'id': 'LIM', 'type': 'Airport', 'href': '#/included/airports/LIM'}]}, {'type': 'location', 'subType': 'city', 'name': 'San Francisco', 'address': {'countryCode': 'PE', 'stateCode': 'PE-ZZZ'}, 'geoCode': {'latitude': -12.6, 'longitude': -73.81667}, 'relationships': [{'id': 'AYP', 'type': 'Airport', 'href': '#/included/airports/AYP'}]}, {'type': 'location', 'subType': 'city', 'name': 'San Francisco', 'address': {'countryCode': 'PH', 'stateCode': 'PH-ZZZ'}, 'geoCode': {'latitude': 15.35566, 'longitude': 120.84001}, 'relationships': [{'id': 'CRK', 'type': 'Airport', 'href': '#/included/airports/CRK'}]}, {'type': 'location', 'subType': 'city', 'name': 'San Francisco', 'address': {'countryCode': 'PH', 'stateCode': 'PH-ZZZ'}, 'geoCode': {'latitude': 8.53556, 'longitude': 125.95}, 'relationships': [{'id': 'BXU', 'type': 'Airport', 'href': '#/included/airports/BXU'}]}, {'type': 'location', 'subType': 'city', 'name': 'San Francisco', 'address': {'countryCode': 'PH', 'stateCode': 'PH-ZZZ'}, 'geoCode': {'latitude': 10.6461, 'longitude': 124.3816}, 'relationships': [{'id': 'CEB', 'type': 'Airport', 'href': '#/included/airports/CEB'}]}, {'type': 'location', 'subType': 'city', 'name': 'San Francisco', 'address': {'countryCode': 'PH', 'stateCode': 'PH-ZZZ'}, 'geoCode': {'latitude': 10.16018, 'longitude': 124.31098}, 'relationships': [{'id': 'CEB', 'type': 'Airport', 'href': '#/included/airports/CEB'}]}, {'type': 'location', 'subType': 'city', 'name': 'San Francisco', 'address': {'countryCode': 'PH', 'stateCode': 'PH-ZZZ'}, 'geoCode': {'latitude': 14.96154, 'longitude': 120.54526}, 'relationships': [{'id': 'CRK', 'type': 'Airport', 'href': '#/included/airports/CRK'}]}, {'type': 'location', 'subType': 'city', 'name': 'San Francisco', 'address': {'countryCode': 'PH', 'stateCode': 'PH-ZZZ'}, 'geoCode': {'latitude': 13.7911, 'longitude': 122.2876}, 'relationships': [{'id': 'MNL', 'type': 'Airport', 'href': '#/included/airports/MNL'}]}, {'type': 'location', 'subType': 'city', 'name': 'San Francisco', 'address': {'countryCode': 'PH', 'stateCode': 'PH-ZZZ'}, 'geoCode': {'latitude': 13.0367, 'longitude': 123.7832}, 'relationships': [{'id': 'LGP', 'type': 'Airport', 'href': '#/included/airports/LGP'}]}, {'type': 'location', 'subType': 'city', 'name': 'San Francisco', 'address': {'countryCode': 'PH', 'stateCode': 'PH-ZZZ'}, 'geoCode': {'latitude': 11.31961, 'longitude': 122.05051}, 'relationships': [{'id': 'KLO', 'type': 'Airport', 'href': '#/included/airports/KLO'}]}, {'type': 'location', 'subType': 'city', 'name': 'San Francisco', 'address': {'countryCode': 'PH', 'stateCode': 'PH-ZZZ'}, 'geoCode': {'latitude': 10.06, 'longitude': 125.16056}, 'relationships': [{'id': 'CGM', 'type': 'Airport', 'href': '#/included/airports/CGM'}]}, {'type': 'location', 'subType': 'city', 'name': 'San Francisco', 'address': {'countryCode': 'PH', 'stateCode': 'PH-ZZZ'}, 'geoCode': {'latitude': 12.72472, 'longitude': 123.90639}, 'relationships': [{'id': 'LGP', 'type': 'Airport', 'href': '#/included/airports/LGP'}]}, {'type': 'location', 'subType': 'city', 'name': 'San Francisco', 'address': {'countryCode': 'PH', 'stateCode': 'PH-ZZZ'}, 'geoCode': {'latitude': 13.89806, 'longitude': 121.24806}, 'relationships': [{'id': 'MNL', 'type': 'Airport', 'href': '#/included/airports/MNL'}]}, {'type': 'location', 'subType': 'city', 'name': 'San Francisco', 'address': {'countryCode': 'PH', 'stateCode': 'PH-ZZZ'}, 'geoCode': {'latitude': 9.52806, 'longitude': 125.48556}, 'relationships': [{'id': 'BXU', 'type': 'Airport', 'href': '#/included/airports/BXU'}]}, {'type': 'location', 'subType': 'city', 'name': 'San Francisco', 'address': {'countryCode': 'PH', 'stateCode': 'PH-ZZZ'}, 'geoCode': {'latitude': 15.6289, 'longitude': 120.43637}, 'relationships': [{'id': 'CRK', 'type': 'Airport', 'href': '#/included/airports/CRK'}]}, {'type': 'location', 'subType': 'city', 'name': 'San Francisco', 'address': {'countryCode': 'PH', 'stateCode': 'PH-ZZZ'}, 'geoCode': {'latitude': 13.31667, 'longitude': 123.75}, 'relationships': [{'id': 'LGP', 'type': 'Airport', 'href': '#/included/airports/LGP'}]}, {'type': 'location', 'subType': 'city', 'name': 'San Francisco', 'address': {'countryCode': 'PH', 'stateCode': 'PH-ZZZ'}, 'geoCode': {'latitude': 9.77694, 'longitude': 125.42472}, 'relationships': [{'id': 'BXU', 'type': 'Airport', 'href': '#/included/airports/BXU'}]}, {'type': 'location', 'subType': 'city', 'name': 'San Francisco', 'address': {'countryCode': 'SV', 'stateCode': 'SV-ZZZ'}, 'geoCode': {'latitude': 13.7, 'longitude': -88.1}, 'relationships': [{'id': 'SAL', 'type': 'Airport', 'href': '#/included/airports/SAL'}]}, {'type': 'location', 'subType': 'city', 'name': 'San Francisco Menendez', 'address': {'countryCode': 'SV', 'stateCode': 'SV-ZZZ'}, 'geoCode': {'latitude': 13.84306, 'longitude': -90.01583}, 'relationships': [{'id': 'SAL', 'type': 'Airport', 'href': '#/included/airports/SAL'}]}, {'type': 'location', 'subType': 'city', 'name': 'San Francisco Morazan', 'address': {'countryCode': 'SV', 'stateCode': 'SV-ZZZ'}, 'geoCode': {'latitude': 14.18333, 'longitude': -89.05}, 'relationships': [{'id': 'SAL', 'type': 'Airport', 'href': '#/included/airports/SAL'}]}, {'type': 'location', 'subType': 'city', 'name': 'South San Francisco', 'address': {'countryCode': 'US', 'stateCode': 'US-CA'}, 'geoCode': {'latitude': 37.65466, 'longitude': -122.40775}, 'relationships': [{'id': 'SFO', 'type': 'Airport', 'href': '#/included/airports/SFO'}]}, {'type': 'location', 'subType': 'city', 'name': 'San Francisco de Yare', 'address': {'countryCode': 'VE', 'stateCode': 'VE-ZZZ'}, 'geoCode': {'latitude': 10.17793, 'longitude': -66.74649}, 'relationships': [{'id': 'CCS', 'type': 'Airport', 'href': '#/included/airports/CCS'}]}, {'type': 'location', 'subType': 'city', 'name': 'San Francisco', 'address': {'countryCode': 'VE', 'stateCode': 'VE-ZZZ'}, 'geoCode': {'latitude': 10.55363, 'longitude': -71.70364}, 'relationships': [{'id': 'MAR', 'type': 'Airport', 'href': '#/included/airports/MAR'}]}]\n",
      "Number of Point of Interests 12\n",
      "================================\u001b[1m Human Message \u001b[0m=================================\n",
      "\n",
      "I'm Raj. Can you plan a trip for me to san franscisco, california for 4 days\n",
      "==================================\u001b[1m Ai Message \u001b[0m==================================\n",
      "Tool Calls:\n",
      "  city_search (call_v4XohPYUldTaIxWcuk0xes3g)\n",
      " Call ID: call_v4XohPYUldTaIxWcuk0xes3g\n",
      "  Args:\n",
      "    input: {'keyword': 'San Francisco'}\n",
      "=================================\u001b[1m Tool Message \u001b[0m=================================\n",
      "Name: city_search\n",
      "\n",
      "{\"city_name\": \"San Francisco\", \"iata_code\": \"SFO\", \"latitude\": 37.77493, \"longitude\": -122.41942, \"airports\": [\"SFO\"]}\n",
      "==================================\u001b[1m Ai Message \u001b[0m==================================\n",
      "Tool Calls:\n",
      "  get_hotels_in_city (call_HzZJap8y0Q98en3EQzgMSJ95)\n",
      " Call ID: call_HzZJap8y0Q98en3EQzgMSJ95\n",
      "  Args:\n",
      "    input: {'city_code': 'SFO'}\n",
      "  get_weather_for_address (call_MxA3dehcrrl8mRBvMO3Liuyu)\n",
      " Call ID: call_MxA3dehcrrl8mRBvMO3Liuyu\n",
      "  Args:\n",
      "    address: San Francisco, California\n",
      "  get_popular_attractions (call_EqFx7Hyww3U8m06GGTkGCye3)\n",
      " Call ID: call_EqFx7Hyww3U8m06GGTkGCye3\n",
      "  Args:\n",
      "    input: {'latitude': 37.77493, 'longitude': -122.41942}\n",
      "=================================\u001b[1m Tool Message \u001b[0m=================================\n",
      "Name: get_hotels_in_city\n",
      "\n",
      "[\"DAYS INN SAN FRANCISCO DOWNTOW - 0.4km away\", \"HOTEL WHITCOMB - 0.4km away\", \"SLEEP OVER SAUCE - 0.5km away\", \"RODEWAY INN DOWNTOWN - 0.5km away\", \"RODEWAY INN CIVIC CENTER - 0.6km away\", \"SMITH HOTEL BED AND BREAKFAST - 0.6km away\", \"PHOENIX HOTEL - 0.6km away\", \"TRAVELODGE SAN FRANCISCO CENTR - 0.6km away\", \"YALE HOTEL - 0.7km away\", \"GOOD HOTEL SAN FRANCISCO - 0.8km away\"]\n",
      "=================================\u001b[1m Tool Message \u001b[0m=================================\n",
      "Name: get_weather_for_address\n",
      "\n",
      "The current temperature is 17.6°C with wind speed 31.6 km/h.\n",
      "=================================\u001b[1m Tool Message \u001b[0m=================================\n",
      "Name: get_popular_attractions\n",
      "\n",
      "[\"California-Caribbean Family Style Dinner // Alamo Square - Rated None/5, Average Price: 120.0 USD\", \"Truffle Risotto Demystified // Mission Bay - Rated None/5, Average Price: 126.0 USD\", \"Sake Tasting & Food Pairing with a Sake Sommelier  - Rated None/5, Average Price: 48.0 USD\", \"Italian Fresh Pasta Ravioli // Potrero Hill - Rated None/5, Average Price: 108.0 USD\", \"New York Style Pizza Class // Mission Bay - Rated None/5, Average Price: 132.0 USD\", \"Paella & Tapas Cooking Class // Mission Bay - Rated None/5, Average Price: 132.0 USD\", \"Modern Shanghai Tasting Menu // Richmond - Rated None/5, Average Price: 108.0 USD\", \"Vegan Chinese Classics Hands-on cooking class // Richmond - Rated None/5, Average Price: 102.0 USD\", \"Sunday Red Caviar and Crepes Brunch with Mimosas in San Francisco - Rated None/5, Average Price: 54.0 USD\", \"Seasonal Vegetarian Chinese Feast with a European Twist // Richmond - Rated None/5, Average Price: 102.0 USD\", \"San Francisco Sizzler: Neapolitan Pizza Making Class - Rated None/5, Average Price: 162.0 USD\", \"Unleash your Inner Artist: Cooking Class and Market Tour in Haight Ashbury - Rated None/5, Average Price: 214.8 USD\"]\n",
      "==================================\u001b[1m Ai Message \u001b[0m==================================\n",
      "\n",
      "Hi Raj! Here's a personalized plan for your 4-day trip to San Francisco, California:\n",
      "\n",
      "### Weather in San Francisco\n",
      "- The current temperature is 17.6°C with a wind speed of 31.6 km/h. It's a great time to explore the city!\n",
      "\n",
      "### Top 10 Hotels in San Francisco\n",
      "1. Days Inn San Francisco Downtown - 0.4 km away\n",
      "2. Hotel Whitcomb - 0.4 km away\n",
      "3. Sleep Over Sauce - 0.5 km away\n",
      "4. Rodeway Inn Downtown - 0.5 km away\n",
      "5. Rodeway Inn Civic Center - 0.6 km away\n",
      "6. Smith Hotel Bed and Breakfast - 0.6 km away\n",
      "7. Phoenix Hotel - 0.6 km away\n",
      "8. Travelodge San Francisco Central - 0.6 km away\n",
      "9. Yale Hotel - 0.7 km away\n",
      "10. Good Hotel San Francisco - 0.8 km away\n",
      "\n",
      "### Top 10 Attractions and Things to Do\n",
      "1. California-Caribbean Family Style Dinner - Average Price: $120\n",
      "2. Truffle Risotto Demystified - Average Price: $126\n",
      "3. Sake Tasting & Food Pairing with a Sake Sommelier - Average Price: $48\n",
      "4. Italian Fresh Pasta Ravioli - Average Price: $108\n",
      "5. New York Style Pizza Class - Average Price: $132\n",
      "6. Paella & Tapas Cooking Class - Average Price: $132\n",
      "7. Modern Shanghai Tasting Menu - Average Price: $108\n",
      "8. Vegan Chinese Classics Hands-on Cooking Class - Average Price: $102\n",
      "9. Sunday Red Caviar and Crepes Brunch with Mimosas - Average Price: $54\n",
      "10. Seasonal Vegetarian Chinese Feast with a European Twist - Average Price: $102\n",
      "\n",
      "### Estimated Daily and Total Cost\n",
      "- **Daily Cost**: Approximately $150 - $200 (including attractions, meals, and transportation)\n",
      "- **Total Cost for 4 Days**: Approximately $600 - $800\n",
      "\n",
      "### Daily Plan\n",
      "\n",
      "#### Day 1: Arrival and Exploration\n",
      "- **Morning**: Check into your hotel and relax.\n",
      "- **Afternoon**: Explore Alamo Square and enjoy a California-Caribbean Family Style Dinner.\n",
      "- **Evening**: Stroll around the city center and enjoy the local nightlife.\n",
      "\n",
      "#### Day 2: Culinary Adventures\n",
      "- **Morning**: Attend a Truffle Risotto Demystified class in Mission Bay.\n",
      "- **Afternoon**: Visit local markets and enjoy a Sake Tasting & Food Pairing session.\n",
      "- **Evening**: Dine at a local restaurant and explore the Mission Bay area.\n",
      "\n",
      "#### Day 3: Cultural and Culinary Exploration\n",
      "- **Morning**: Participate in an Italian Fresh Pasta Ravioli class in Potrero Hill.\n",
      "- **Afternoon**: Visit Richmond for a Modern Shanghai Tasting Menu.\n",
      "- **Evening**: Enjoy a Vegan Chinese Classics Cooking Class.\n",
      "\n",
      "#### Day 4: Relaxation and Departure\n",
      "- **Morning**: Enjoy a Sunday Red Caviar and Crepes Brunch with Mimosas.\n",
      "- **Afternoon**: Relax at a local park or visit any remaining attractions.\n",
      "- **Evening**: Prepare for departure.\n",
      "\n",
      "### Summary of the Trip\n",
      "Your 4-day trip to San Francisco will be filled with culinary delights, cultural experiences, and relaxation. You'll explore various neighborhoods, enjoy diverse cuisines, and have the opportunity to learn new cooking skills. Enjoy your trip, Raj!\n",
      "\n",
      "If you need any more details or adjustments, feel free to ask!\n"
     ]
    }
   ],
   "source": [
    "# let us see if the Agent can search the web, then use a tool to calculate and return result to user\n",
    "\n",
    "message = [HumanMessage(content=\"I'm Raj. Can you plan a trip for me to san franscisco, california for 4 days\")]\n",
    "\n",
    "results=trip_planner_app.invoke({\"messages\" : message})\n",
    "\n",
    "for result in results[\"messages\"]:\n",
    "    result.pretty_print()"
   ]
  },
  {
   "cell_type": "code",
   "execution_count": null,
   "id": "782d30b6",
   "metadata": {},
   "outputs": [],
   "source": [
    "# observations:\n",
    "#---------------\n",
    "# LLM did not use the web search to get any additional details. Meaning it successfully used all tools\n",
    "# LLM gave the results as expected.\n",
    "\n",
    "# improvements:\n",
    "#---------------\n",
    "# Add hotel price in addition to hotel name list. that can be accounted for daily cost and total trip cost estimate\n",
    "# Make this interactive like chat bot, for LLM to ask all inputs needed from the user to then summarize results"
   ]
  }
 ],
 "metadata": {
  "kernelspec": {
   "display_name": "langenv",
   "language": "python",
   "name": "python3"
  },
  "language_info": {
   "codemirror_mode": {
    "name": "ipython",
    "version": 3
   },
   "file_extension": ".py",
   "mimetype": "text/x-python",
   "name": "python",
   "nbconvert_exporter": "python",
   "pygments_lexer": "ipython3",
   "version": "3.10.16"
  }
 },
 "nbformat": 4,
 "nbformat_minor": 5
}
