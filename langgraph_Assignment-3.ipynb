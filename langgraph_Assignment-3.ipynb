{
 "cells": [
  {
   "cell_type": "code",
   "execution_count": 2,
   "id": "83af9a08",
   "metadata": {},
   "outputs": [],
   "source": [
    "# Setup OpenAI's GPT-4o model for use with LangChain\n",
    "from langchain_openai import ChatOpenAI\n",
    "model = ChatOpenAI(\n",
    "    model=\"gpt-4o\")"
   ]
  },
  {
   "cell_type": "code",
   "execution_count": 4,
   "id": "187c1788",
   "metadata": {},
   "outputs": [],
   "source": [
    "# Setup text splitter to split documents into manageable chunks\n",
    "from langchain.text_splitter import RecursiveCharacterTextSplitter\n",
    "\n",
    "text_splitter=RecursiveCharacterTextSplitter(\n",
    "    chunk_size=200,\n",
    "    chunk_overlap=50\n",
    ")"
   ]
  },
  {
   "cell_type": "code",
   "execution_count": 5,
   "id": "470de07b",
   "metadata": {},
   "outputs": [],
   "source": [
    "# Setup document loaders and vector store\n",
    "from langchain_community.document_loaders import TextLoader, DirectoryLoader\n",
    "from langchain_community.vectorstores import Chroma\n",
    "\n",
    "# Load text documents from a directory\n",
    "loader = DirectoryLoader(\"/Users/Raj/Documents/AgenticAI-2.0/data2\",glob=\"./*.txt\",loader_cls=TextLoader)\n",
    "docs=loader.load()"
   ]
  },
  {
   "cell_type": "code",
   "execution_count": 6,
   "id": "1ca3c64e",
   "metadata": {},
   "outputs": [],
   "source": [
    "# Split the loaded documents into smaller chunks with RecursiveCharacterTextSplitter\n",
    "new_docs=text_splitter.split_documents(documents=docs)"
   ]
  },
  {
   "cell_type": "code",
   "execution_count": null,
   "id": "34b7990e",
   "metadata": {},
   "outputs": [],
   "source": [
    "# Validate the split document chunks\n",
    "doc_string=[doc.page_content for doc in new_docs]\n",
    "doc_string"
   ]
  },
  {
   "cell_type": "code",
   "execution_count": null,
   "id": "c2bef1ab",
   "metadata": {},
   "outputs": [
    {
     "name": "stderr",
     "output_type": "stream",
     "text": [
      "/opt/miniconda3/envs/langenv/lib/python3.10/site-packages/tqdm/auto.py:21: TqdmWarning: IProgress not found. Please update jupyter and ipywidgets. See https://ipywidgets.readthedocs.io/en/stable/user_install.html\n",
      "  from .autonotebook import tqdm as notebook_tqdm\n"
     ]
    }
   ],
   "source": [
    "# Setup HuggingFace embeddings for document chunk embedding\n",
    "from langchain_huggingface import HuggingFaceEmbeddings\n",
    "embeddings = HuggingFaceEmbeddings(\n",
    "    model_name=\"sentence-transformers/all-MiniLM-L6-v2\")\n",
    "    \n",
    "# Embed the document chunks using HuggingFace embeddings\n",
    "db=Chroma.from_documents(new_docs,embeddings)"
   ]
  },
  {
   "cell_type": "code",
   "execution_count": 10,
   "id": "e208c8ef",
   "metadata": {},
   "outputs": [
    {
     "data": {
      "text/plain": [
       "[Document(metadata={'source': '/Users/Raj/Documents/AgenticAI-2.0/data2/usa.txt'}, page_content='The U.S. economy remains the engine of global growth, backed by unmatched innovation, financial dominance, and a strong institutional framework. Its $28 trillion GDP and influence over global'),\n",
       " Document(metadata={'source': '/Users/Raj/Documents/AgenticAI-2.0/data2/usa.txt'}, page_content='GDP Growth Trends and Dynamics'),\n",
       " Document(metadata={'source': '/Users/Raj/Documents/AgenticAI-2.0/data2/usa.txt'}, page_content='The U.S. maintains its GDP growth through strong innovation, entrepreneurship, and investment in R&D. With companies like Apple, Google, Amazon, Microsoft, and Tesla leading global markets, the U.S.')]"
      ]
     },
     "execution_count": 10,
     "metadata": {},
     "output_type": "execute_result"
    }
   ],
   "source": [
    "# Setup retriever to search through the embedded documents with 3 results\n",
    "retriever=db.as_retriever(search_kwargs={\"k\": 3})\n",
    "retriever.invoke(\"industrial growth of usa?\")"
   ]
  },
  {
   "cell_type": "code",
   "execution_count": 11,
   "id": "2e807881",
   "metadata": {},
   "outputs": [],
   "source": [
    "# Import libraries for validation, parsing, StateGraph, and message handling\n",
    "import operator\n",
    "from typing import List\n",
    "from pydantic import BaseModel , Field\n",
    "from langchain.prompts import PromptTemplate\n",
    "from typing import TypedDict, Annotated, Sequence\n",
    "from langchain_core.messages import BaseMessage\n",
    "from langchain_core.output_parsers import StrOutputParser\n",
    "from langchain_core.prompts import ChatPromptTemplate, PromptTemplate\n",
    "from langchain_core.runnables import RunnablePassthrough\n",
    "from langchain_core.messages import HumanMessage, AIMessage\n",
    "from langgraph.graph import StateGraph,END"
   ]
  },
  {
   "cell_type": "code",
   "execution_count": 12,
   "id": "49a8a3d2",
   "metadata": {},
   "outputs": [],
   "source": [
    "# Setup Parser Class for a structured output of topic selection\n",
    "class TopicSelectionParser(BaseModel):\n",
    "    Topic:str=Field(description=\"selected topic\")\n",
    "    Reasoning:str=Field(description='Reasoning behind topic selection')"
   ]
  },
  {
   "cell_type": "code",
   "execution_count": 13,
   "id": "99d8a43d",
   "metadata": {},
   "outputs": [],
   "source": [
    "# Setup pydantic output parser to convert the model's output into the structured format\n",
    "from langchain.output_parsers import PydanticOutputParser\n",
    "parser=PydanticOutputParser(pydantic_object=TopicSelectionParser)\n",
    "#parser.get_format_instructions()"
   ]
  },
  {
   "cell_type": "code",
   "execution_count": 86,
   "id": "2560f53f",
   "metadata": {},
   "outputs": [],
   "source": [
    "# Define AgentState using TypedDict to hold the state of the agent\n",
    "# using Total=False to allow for optional fields\n",
    "class AgentState(TypedDict, total=False):\n",
    "    query: str  # The user's query or question\n",
    "    results: list[str]  # List of results generated by the agent\n",
    "    next_step: str  # The next step or action to be taken by the agent\n",
    "    validation: bool    # Flag to indicate if the results have been validated\n",
    "    retries: int = 0  # retry count when retrying to get results\n",
    "\n",
    "# Initialize the agent state with default values\n",
    "agent_state: AgentState = {\n",
    "    \"query\": \"\",\n",
    "    \"results\": [],\n",
    "    \"next_step\": \"\",\n",
    "    \"validation\": False,\n",
    "    \"retries\": 0\n",
    "}"
   ]
  },
  {
   "cell_type": "code",
   "execution_count": 148,
   "id": "813a24ea",
   "metadata": {},
   "outputs": [],
   "source": [
    "# define the node to assess the user query for next step\n",
    "def assess_user_query(state:AgentState):\n",
    "    \n",
    "    question=state[\"query\"]\n",
    "    \n",
    "    print(\"Question\",question)\n",
    "    \n",
    "    template=\"\"\"\n",
    "    Your task is to classify the given user query into one of the following categories: [LLM CALL,RAG CALL,WEB CALL]. \n",
    "    Only respond with the category name and nothing else.\n",
    "    If the query is related to USA, classify it as \"RAG CALL\".\n",
    "    If the query needs answer from internet web search, classify it as \"WEB CALL\".\n",
    "    If the query is not related to USA and does not need a web search, classify it as \"LLM CALL\".\n",
    "    \n",
    "    User query: {question}\n",
    "    {format_instructions}\n",
    "    \"\"\"\n",
    "    \n",
    "    prompt= PromptTemplate(\n",
    "        template=template,\n",
    "        input_variables=[\"question\"],\n",
    "        partial_variables={\"format_instructions\": parser.get_format_instructions()}\n",
    "    )\n",
    "    \n",
    "    \n",
    "    chain= prompt | model | parser\n",
    "    \n",
    "    response = chain.invoke({\"question\":question})\n",
    "    \n",
    "    print(\"Parsed response:\", response)\n",
    "    \n",
    "    # Update the state with the next step based on the response\n",
    "    state[\"next_step\"] = response.Topic\n",
    "    return state"
   ]
  },
  {
   "cell_type": "code",
   "execution_count": 88,
   "id": "72c19951",
   "metadata": {},
   "outputs": [
    {
     "name": "stdout",
     "output_type": "stream",
     "text": [
      "Question ['What is the industrial growth of India?']\n",
      "Parsed response: Topic='LLM CALL' Reasoning='The query is about the industrial growth of India, which does not relate to the USA and does not require real-time or updated information from a web search.'\n"
     ]
    },
    {
     "data": {
      "text/plain": [
       "{'query': ['What is the industrial growth of India?'], 'next_step': 'LLM CALL'}"
      ]
     },
     "execution_count": 88,
     "metadata": {},
     "output_type": "execute_result"
    }
   ],
   "source": [
    "# Pass user query to the assess_user_query function\n",
    "state = {\"query\": [\"What is the industrial growth of India?\"]}\n",
    "assess_user_query(state)"
   ]
  },
  {
   "cell_type": "code",
   "execution_count": 112,
   "id": "e41addbd",
   "metadata": {},
   "outputs": [],
   "source": [
    "# Define router function to decide the next step\n",
    "def router(state: AgentState):\n",
    "    \"\"\"\n",
    "    Router function to decide which branch to take based on the last message.\n",
    "    \"\"\"\n",
    "    print(\"-> in Router function\")\n",
    "    next_step = state[\"next_step\"]\n",
    "    #next_step = state.get(\"next_step\", [\"LLM CALL\"])\n",
    "    print(\"Next Step : \", next_step)\n",
    "    if \"RAG\" in next_step.upper():\n",
    "        return \"RAG CALL\"\n",
    "    elif \"WEB\" in next_step.upper():\n",
    "        return \"WEB CALL\"\n",
    "    else:\n",
    "        return \"LLM CALL\""
   ]
  },
  {
   "cell_type": "code",
   "execution_count": 150,
   "id": "10edaa95",
   "metadata": {},
   "outputs": [],
   "source": [
    "#RAG CALL\n",
    "def rag_call(state: AgentState):\n",
    "    \"\"\"\n",
    "    RAG call function to retrieve relevant documents from vector DB and generate a response.\n",
    "    \"\"\"\n",
    "    print(\"-> in RAG call function\")\n",
    "    question = state[\"query\"]\n",
    "    print(\"Last message:\", question)\n",
    "    \n",
    "    # Retrieve relevant documents\n",
    "    retrieved_docs = retriever.invoke(question)\n",
    "    \n",
    "    # Generate a response using the retrieved documents\n",
    "    rag_prompt = ChatPromptTemplate.from_messages([\n",
    "        (\"system\", \"You are a helpful assistant that provides information based on the provided documents.\"),\n",
    "        (\"human\", \"{question}\"),\n",
    "        (\"human\", \"Here are some relevant documents: {documents}\")\n",
    "    ])\n",
    "    \n",
    "    rag_chain = rag_prompt | model | StrOutputParser()\n",
    "    \n",
    "    response = rag_chain.invoke({\n",
    "        \"question\": question,\n",
    "        \"documents\": \"\\n\".join([doc.page_content for doc in retrieved_docs])\n",
    "    })\n",
    "    \n",
    "    print(\" Response from RAG chain: \", response)\n",
    "    if \"results\" not in state:\n",
    "        state[\"results\"] = []\n",
    "    state[\"results\"].append(response)\n",
    "    return state "
   ]
  },
  {
   "cell_type": "code",
   "execution_count": 120,
   "id": "2b2e40cc",
   "metadata": {},
   "outputs": [],
   "source": [
    "# LLM CALL\n",
    "def llm_call(state: AgentState):\n",
    "    \"\"\"\n",
    "    LLM call function to generate a response without using RAG.\n",
    "    \"\"\"\n",
    "    print(\"-> in LLM call function\")\n",
    "    question = state[\"query\"]\n",
    "    print(\"Last message:\", question)\n",
    "    \n",
    "    llm_prompt = ChatPromptTemplate.from_messages([\n",
    "        (\"system\", \"You are a helpful assistant that provides information based on the user's query.\"),\n",
    "        (\"human\", \"{question}\")\n",
    "    ])\n",
    "    \n",
    "    llm_chain = llm_prompt | model | StrOutputParser()\n",
    "    \n",
    "    response = llm_chain.invoke({\"question\": question})\n",
    "    if \"results\" not in state:\n",
    "        state[\"results\"] = []\n",
    "    state[\"results\"].append(response)\n",
    "    return state "
   ]
  },
  {
   "cell_type": "code",
   "execution_count": 92,
   "id": "cca09d5e",
   "metadata": {},
   "outputs": [],
   "source": [
    "# Setup Tavily Search for web search capabilities and load environment variables\n",
    "from langchain_community.tools.tavily_search import TavilySearchResults\n",
    "import os\n",
    "from dotenv import load_dotenv\n",
    "load_dotenv() \n",
    "\n",
    "tavily_search = TavilySearchResults(\n",
    "    api_key=os.getenv(\"TAVILY_API_KEY\"),\n",
    "    top_k_results=5,\n",
    "    doc_content_chars_max=500\n",
    ")\n"
   ]
  },
  {
   "cell_type": "code",
   "execution_count": 93,
   "id": "43aad95f",
   "metadata": {},
   "outputs": [],
   "source": [
    "# Define function to extract web search result contents from Tavily\n",
    "def format_tavily_results(tavily_results: list) -> str:\n",
    "    return \"\\n\\n\".join(result[\"content\"] for result in tavily_results if \"content\" in result)\n"
   ]
  },
  {
   "cell_type": "code",
   "execution_count": 142,
   "id": "deda205f",
   "metadata": {},
   "outputs": [],
   "source": [
    "# WEB CALL\n",
    "def web_call(state: AgentState):\n",
    "    \"\"\"\n",
    "    WEB call function to generate a response from the internet.\n",
    "    \"\"\"\n",
    "    print(\"-> in WEB call function\")\n",
    "    question = state[\"query\"]\n",
    "    print(\"Last message:\", question)\n",
    "    \n",
    "    #get web search results using Tavily\n",
    "    tavily_response = tavily_search.run(question)\n",
    "    # Format the Tavily search results to extract content\n",
    "    formatted_web_content = format_tavily_results(tavily_response)\n",
    "\n",
    "    # If no content is found, provide a default message as response\n",
    "    # when content is present, pass it to LLM for generating a summarized response\n",
    "    if not formatted_web_content:\n",
    "        response = \"No relevant information found on the web.\"\n",
    "    else:\n",
    "        web_prompt = ChatPromptTemplate.from_messages([\n",
    "            (\"system\", \"You are a helpful assistant that summarizes information for the user\"),\n",
    "            (\"human\", \"{question}\"),\n",
    "            (\"human\", \"Here are some web search results for you to summarize: {formatted_web_content}\")])\n",
    "    \n",
    "        web_chain = web_prompt | model | StrOutputParser()\n",
    "    # Generate a response using the web search results\n",
    "        response = web_chain.invoke({\n",
    "            \"question\": question,\n",
    "            \"formatted_web_content\": formatted_web_content\n",
    "        })\n",
    "    if \"results\" not in state:\n",
    "        state[\"results\"] = []\n",
    "    state[\"results\"].append(response)\n",
    "    return state "
   ]
  },
  {
   "cell_type": "code",
   "execution_count": 95,
   "id": "7e45eebc",
   "metadata": {},
   "outputs": [],
   "source": [
    "# Define validate function to decide & set if the response is valid or not\n",
    "def validate_result(state: AgentState):\n",
    "    \"\"\"\n",
    "    Validate function to check if the last response is valid.\n",
    "    \"\"\"\n",
    "    print(\"-> in Validate function\")\n",
    "    last_message = state[\"results\"][-1]\n",
    "    \n",
    "    # Simple validation logic: if the response is not empty, consider it valid\n",
    "\n",
    "    if len(last_message)>0:\n",
    "        state[\"validation\"] = True\n",
    "        print(\"Response is valid.\")\n",
    "    else:\n",
    "        state[\"validation\"] = False\n",
    "        state[\"retries\"] += 1\n",
    "        print(\"Response is invalid.\")\n",
    "    \n",
    "    return state"
   ]
  },
  {
   "cell_type": "code",
   "execution_count": 156,
   "id": "55644603",
   "metadata": {},
   "outputs": [],
   "source": [
    "#define validate router function to decide the next step based on validation\n",
    "def validate_router(state: AgentState):\n",
    "    \"\"\"\n",
    "    Validate router function to decide the next step based on validation.\n",
    "    \"\"\"\n",
    "    print(\"-> in Validate Router function\")\n",
    "    print(f\"Validation={state['validation']} | Retries={state.get('retries', 0)}\")\n",
    "    # If validation is True or retries are more than 3, go to END\n",
    "    # Otherwise, retry\n",
    "    if state[\"validation\"] or state[\"retries\"] >= 3:\n",
    "        print(\"Validation passed or max retries reached.\")\n",
    "        state[\"next_step\"] = \"END\"\n",
    "        return \"END\"\n",
    "    else:\n",
    "        print(\"Validation failed, retrying...\")\n",
    "        state[\"next_step\"] = \"RETRY\"\n",
    "        return \"RETRY\""
   ]
  },
  {
   "cell_type": "code",
   "execution_count": 151,
   "id": "e7774e61",
   "metadata": {},
   "outputs": [
    {
     "data": {
      "text/plain": [
       "<langgraph.graph.state.StateGraph at 0x12f98e410>"
      ]
     },
     "execution_count": 151,
     "metadata": {},
     "output_type": "execute_result"
    }
   ],
   "source": [
    "from langgraph.graph import StateGraph, END\n",
    "#workflow defined with all nodes and edges at once. Conditional edges defined separately\n",
    "workflow = StateGraph(AgentState) \\\n",
    "    .add_node(\"assess_user_query\", assess_user_query) \\\n",
    "    .add_node(\"RAG CALL\", rag_call) \\\n",
    "    .add_node(\"LLM CALL\", llm_call) \\\n",
    "    .add_node(\"WEB CALL\", web_call) \\\n",
    "    .add_node(\"validate_result\", validate_result) \\\n",
    "    .set_entry_point(\"assess_user_query\") \\\n",
    "    .add_edge(\"RAG CALL\", \"validate_result\") \\\n",
    "    .add_edge(\"WEB CALL\", \"validate_result\") \\\n",
    "    .add_edge(\"LLM CALL\", \"validate_result\") \n",
    "\n",
    "# below conditional edge diverts the flow based on output from router function\n",
    "workflow.add_conditional_edges(\n",
    "    \"assess_user_query\", router,{\n",
    "        \"RAG CALL\": \"RAG CALL\",\n",
    "        \"LLM CALL\": \"LLM CALL\",\n",
    "        \"WEB CALL\": \"WEB CALL\"\n",
    "    }\n",
    ")\n",
    "workflow.add_conditional_edges(\n",
    "    \"validate_result\", validate_router,{\n",
    "        \"RETRY\": \"assess_user_query\",\n",
    "        \"END\": END    \n",
    "    }\n",
    ")\n",
    "#As an alternative, you can use the following syntax to define conditional edges right when workflow is created\n",
    "#.add_edge(\"decide_usa_or_not\", \"RAG CALL\", lambda state: state[\"messages\"][0] == \"USA\") \\\n",
    "#.add_edge(\"decide_usa_or_not\", \"LLM CALL\", lambda state: state[\"messages\"][0] != \"USA\") \\"
   ]
  },
  {
   "cell_type": "code",
   "execution_count": 157,
   "id": "2b5495a0",
   "metadata": {},
   "outputs": [],
   "source": [
    "app = workflow.compile()"
   ]
  },
  {
   "cell_type": "code",
   "execution_count": 158,
   "id": "81e10894",
   "metadata": {},
   "outputs": [
    {
     "data": {
      "image/png": "[encoded data removed]",
      "text/plain": [
       "<IPython.core.display.Image object>"
      ]
     },
     "metadata": {},
     "output_type": "display_data"
    }
   ],
   "source": [
    "from IPython.display import display, Image\n",
    "display(Image(app.get_graph().draw_mermaid_png()))"
   ]
  },
  {
   "cell_type": "code",
   "execution_count": null,
   "id": "76eea256",
   "metadata": {},
   "outputs": [],
   "source": [
    "# Learned that ChatOpenAI does not accept raw strings and GooglechatAI model implicity converts and a bit forgiving\n",
    "# as best practice, we should use Humanmessage in the input so model get it in the way that it expects and portable across modesl\n",
    "#from langchain_core.messages import HumanMessage\n",
    "#state = {\"messages\": [HumanMessage(content=\"What is the industrial growth of USA?\")]}"
   ]
  },
  {
   "cell_type": "code",
   "execution_count": 161,
   "id": "0193608d",
   "metadata": {},
   "outputs": [
    {
     "name": "stdout",
     "output_type": "stream",
     "text": [
      "Question What is the industrial growth of USA?\n",
      "Parsed response: Topic='RAG CALL' Reasoning='The query is related to USA industrial growth.'\n",
      "-> in Router function\n",
      "Next Step :  RAG CALL\n",
      "-> in RAG call function\n",
      "Last message: What is the industrial growth of USA?\n",
      " Response from RAG chain:  The industrial growth of the United States is supported by several key factors: strong innovation, robust entrepreneurship, and significant investment in research and development (R&D). The U.S. economy, with its $28 trillion GDP, continues to be a major driver of global economic growth. Leading U.S. companies such as Apple, Google, Amazon, Microsoft, and Tesla are pivotal in maintaining this growth trajectory, holding significant influence in global markets.\n",
      "\n",
      "The institutional framework in the U.S. also plays a crucial role in supporting industrial growth, providing a stable and conducive environment for businesses to thrive and innovate. Overall, these elements contribute to the sustained industrial growth in the United States.\n",
      "-> in Validate function\n",
      "Response is valid.\n",
      "-> in Validate Router function\n",
      "Validation=True | Retries=0\n",
      "Validation passed or max retries reached.\n"
     ]
    },
    {
     "data": {
      "text/plain": [
       "{'query': 'What is the industrial growth of USA?',\n",
       " 'results': ['The industrial growth of the United States is supported by several key factors: strong innovation, robust entrepreneurship, and significant investment in research and development (R&D). The U.S. economy, with its $28 trillion GDP, continues to be a major driver of global economic growth. Leading U.S. companies such as Apple, Google, Amazon, Microsoft, and Tesla are pivotal in maintaining this growth trajectory, holding significant influence in global markets.\\n\\nThe institutional framework in the U.S. also plays a crucial role in supporting industrial growth, providing a stable and conducive environment for businesses to thrive and innovate. Overall, these elements contribute to the sustained industrial growth in the United States.'],\n",
       " 'next_step': 'RAG CALL',\n",
       " 'validation': True,\n",
       " 'retries': 0}"
      ]
     },
     "execution_count": 161,
     "metadata": {},
     "output_type": "execute_result"
    }
   ],
   "source": [
    "state = {\"query\": \"What is the industrial growth of USA?\",\n",
    "    \"results\": [],\n",
    "    \"next_step\": \"\",\n",
    "    \"validation\": False,\n",
    "    \"retries\": 0}\n",
    "\n",
    "app.invoke(state)"
   ]
  },
  {
   "cell_type": "code",
   "execution_count": 162,
   "id": "254a2090",
   "metadata": {},
   "outputs": [
    {
     "name": "stdout",
     "output_type": "stream",
     "text": [
      "Question What is the industrial growth of India?\n",
      "Parsed response: Topic='LLM CALL' Reasoning='The query is about the industrial growth of India, which is not related to the USA and does not require a web search for the latest information.'\n",
      "-> in Router function\n",
      "Next Step :  LLM CALL\n",
      "-> in LLM call function\n",
      "Last message: What is the industrial growth of India?\n",
      "-> in Validate function\n",
      "Response is valid.\n",
      "-> in Validate Router function\n",
      "Validation=True | Retries=0\n",
      "Validation passed or max retries reached.\n"
     ]
    },
    {
     "data": {
      "text/plain": [
       "{'query': 'What is the industrial growth of India?',\n",
       " 'results': ['Industrial growth in India has been a key component of the country\\'s economic development. Over the past few decades, India has experienced varying rates of industrial growth, influenced by both internal policies and external factors. Here are some key points regarding recent trends and the outlook for industrial growth in India:\\n\\n1. **Historical Growth**: Post-independence, India adopted a mixed-economy model with a significant emphasis on state-led industrial development. This changed in the 1990s when liberalization policies were implemented, leading to increased private sector participation and foreign investment in the industrial sector.\\n\\n2. **Current Trends**: In recent years, industrial growth has been driven by sectors such as manufacturing, construction, mining, and utilities. The government has implemented initiatives like \"Make in India\" to encourage domestic and foreign companies to manufacture in India.\\n\\n3. **Economic Indicators**: The Index of Industrial Production (IIP) is a key indicator used to measure industrial performance. As of the latest data before October 2023, industrial growth has shown fluctuations, reflecting global economic conditions, policy decisions, and domestic factors like infrastructure and investment climate.\\n\\n4. **Challenges**: Despite progress, several challenges persist, including infrastructural deficits, regulatory hurdles, and the need for more skilled labor. Furthermore, global factors such as supply chain disruptions can impact growth.\\n\\n5. **Future Outlook**: With ongoing reforms and emphasis on sectors like technology, pharmaceuticals, and renewable energy, the outlook for India\\'s industrial growth remains positive. However, continued efforts in improving the business environment, enhancing infrastructure, and addressing skill gaps are crucial.\\n\\n6. **Sectoral Contributions**: The manufacturing sector remains a significant contributor, while sectors such as IT services and pharmaceuticals have also shown strong growth, leveraging India\\'s competitive advantage in skilled labor and innovation.\\n\\nOverall, India\\'s industrial growth is intertwined with its overall economic policies and global market conditions. Keeping abreast of official government publications and economic analyses will provide the most current insights into this area.'],\n",
       " 'next_step': 'LLM CALL',\n",
       " 'validation': True,\n",
       " 'retries': 0}"
      ]
     },
     "execution_count": 162,
     "metadata": {},
     "output_type": "execute_result"
    }
   ],
   "source": [
    "state = {\"query\": \"What is the industrial growth of India?\",\n",
    "    \"results\": [],\n",
    "    \"next_step\": \"\",\n",
    "    \"validation\": False,\n",
    "    \"retries\": 0}\n",
    "\n",
    "app.invoke(state)"
   ]
  },
  {
   "cell_type": "code",
   "execution_count": 163,
   "id": "02f66684",
   "metadata": {},
   "outputs": [
    {
     "name": "stdout",
     "output_type": "stream",
     "text": [
      "Question What is the latest news about India?\n",
      "Parsed response: Topic='WEB CALL' Reasoning='The query requests the latest news about India, which requires current information from a web search.'\n",
      "-> in Router function\n",
      "Next Step :  WEB CALL\n",
      "-> in WEB call function\n",
      "Last message: What is the latest news about India?\n",
      "-> in Validate function\n",
      "Response is valid.\n",
      "-> in Validate Router function\n",
      "Validation=True | Retries=0\n",
      "Validation passed or max retries reached.\n"
     ]
    },
    {
     "data": {
      "text/plain": [
       "{'query': 'What is the latest news about India?',\n",
       " 'results': ['Here\\'s a summary of the latest news about India:\\n\\n1. **Air India Plane Crash**: An Air India plane, flight 171 bound for London, crashed after takeoff from Ahmedabad. This tragic accident resulted in the deaths of at least 265 people, including those on board and on the ground. Rescue operations are ongoing at the crash site. The Tata Group, which owns Air India, has mobilized resources quickly to address the situation and assess the implications for the airline’s safety reputation.\\n\\n2. **Political Developments**: The Aam Aadmi Party (AAP) government has been accused of acting as a \"commission agent\" for real estate developers, highlighting ongoing political tensions and critiques from opposition figures.\\n\\n3. **Punjab\\'s Technological Initiatives**: The state of Punjab has launched \"Easy Jamabandi\", a program aimed at streamlining land record management, which is expected to benefit the public and save governmental resources.\\n\\n4. **Infrastructure Concerns**: Despite recent upgrades, passengers at the Mohali railway station have raised concerns about inadequate security and basic amenities, indicating persistent infrastructure challenges.\\n\\n5. **Economic Impact of Global Tensions**: The ongoing conflict between Israel and Iran is affecting India\\'s Basmati rice exporters, due to disruptions in trade routes and increased market volatility.\\n\\n6. **Agricultural Sector Issues**: India\\'s farm credit system, intended to support farmers, is reportedly turning into a debt trap, raising concerns about the financial security and sustainability of agricultural livelihoods.\\n\\nThese are some of the major news topics currently affecting India.'],\n",
       " 'next_step': 'WEB CALL',\n",
       " 'validation': True,\n",
       " 'retries': 0}"
      ]
     },
     "execution_count": 163,
     "metadata": {},
     "output_type": "execute_result"
    }
   ],
   "source": [
    "state = {\"query\": \"What is the latest news about India?\",\n",
    "    \"results\": [],\n",
    "    \"next_step\": \"\",\n",
    "    \"validation\": False,\n",
    "    \"retries\": 0}\n",
    "\n",
    "app.invoke(state)"
   ]
  }
 ],
 "metadata": {
  "kernelspec": {
   "display_name": "langenv",
   "language": "python",
   "name": "python3"
  },
  "language_info": {
   "codemirror_mode": {
    "name": "ipython",
    "version": 3
   },
   "file_extension": ".py",
   "mimetype": "text/x-python",
   "name": "python",
   "nbconvert_exporter": "python",
   "pygments_lexer": "ipython3",
   "version": "3.10.16"
  }
 },
 "nbformat": 4,
 "nbformat_minor": 5
}
